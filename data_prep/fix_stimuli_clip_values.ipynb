{
 "cells": [
  {
   "cell_type": "markdown",
   "metadata": {},
   "source": [
    "# What the problem is:\n",
    "\n",
    "### The stimuli_1, stimuli_2, and stimuli_3 pickle files used in the study contain INCORRECT clip prediction scores due to formatting. We want these to become correct without changing anything else about the stimuli pickle files"
   ]
  },
  {
   "cell_type": "code",
   "execution_count": 9,
   "metadata": {},
   "outputs": [],
   "source": [
    "import pandas as pd\n",
    "import os\n",
    "\n",
    "correct_stimuli_clip_data = pd.read_excel(\"269_stimuli_edited_labeled.xlsx\")\n",
    "\n",
    "# fix the values of clip_pred_diff in the stimuli files\n",
    "\n",
    "stim_1, stim_2, stim_3= [pd.read_pickle(path) for path in [\"final_stimuli/stimuli_1.pickle\",\n",
    "                                                             \"final_stimuli/stimuli_2.pickle\",\n",
    "                                                             \"final_stimuli/stimuli_3.pickle\",]]\n",
    "\n",
    "for stim in stim_1, stim_2, stim_3:\n",
    "    clip_pred_caption = []\n",
    "    clip_pred_foil = []\n",
    "    for index, row in stim.iterrows():\n",
    "        pass"
   ]
  },
  {
   "cell_type": "code",
   "execution_count": 21,
   "metadata": {},
   "outputs": [
    {
     "data": {
      "text/html": [
       "<div>\n",
       "<style scoped>\n",
       "    .dataframe tbody tr th:only-of-type {\n",
       "        vertical-align: middle;\n",
       "    }\n",
       "\n",
       "    .dataframe tbody tr th {\n",
       "        vertical-align: top;\n",
       "    }\n",
       "\n",
       "    .dataframe thead th {\n",
       "        text-align: right;\n",
       "    }\n",
       "</style>\n",
       "<table border=\"1\" class=\"dataframe\">\n",
       "  <thead>\n",
       "    <tr style=\"text-align: right;\">\n",
       "      <th></th>\n",
       "      <th>Selection</th>\n",
       "      <th>img_path</th>\n",
       "      <th>caption</th>\n",
       "      <th>foil</th>\n",
       "      <th>linguistic_phenomena</th>\n",
       "      <th>Approval</th>\n",
       "      <th>Notes</th>\n",
       "      <th>clip_pred_caption</th>\n",
       "      <th>clip_pred_foil</th>\n",
       "      <th>clip_pred_diff</th>\n",
       "      <th>performance_group</th>\n",
       "      <th>% can't tell (google form, existence only)</th>\n",
       "      <th>% can tell (google form, existence only)</th>\n",
       "      <th>% unsure (google form, existence only)</th>\n",
       "      <th>Caption edited</th>\n",
       "      <th>Foil edited</th>\n",
       "      <th>filename</th>\n",
       "    </tr>\n",
       "  </thead>\n",
       "  <tbody>\n",
       "    <tr>\n",
       "      <th>0</th>\n",
       "      <td>First set (Jan 16)</td>\n",
       "      <td>../VALSE_data/images/coco2017/000000001584.jpg</td>\n",
       "      <td>The red, double decker bus is driving past oth...</td>\n",
       "      <td>The red, double decker bus is driving towards ...</td>\n",
       "      <td>relations</td>\n",
       "      <td>Approve</td>\n",
       "      <td>NaN</td>\n",
       "      <td>30.26965</td>\n",
       "      <td>30.40103</td>\n",
       "      <td>-0.13138</td>\n",
       "      <td>low_perf</td>\n",
       "      <td>NaN</td>\n",
       "      <td>NaN</td>\n",
       "      <td>NaN</td>\n",
       "      <td>NaN</td>\n",
       "      <td>NaN</td>\n",
       "      <td>000000001584.jpg</td>\n",
       "    </tr>\n",
       "  </tbody>\n",
       "</table>\n",
       "</div>"
      ],
      "text/plain": [
       "            Selection                                        img_path  \\\n",
       "0  First set (Jan 16)  ../VALSE_data/images/coco2017/000000001584.jpg   \n",
       "\n",
       "                                             caption  \\\n",
       "0  The red, double decker bus is driving past oth...   \n",
       "\n",
       "                                                foil linguistic_phenomena  \\\n",
       "0  The red, double decker bus is driving towards ...            relations   \n",
       "\n",
       "  Approval Notes  clip_pred_caption  clip_pred_foil  clip_pred_diff  \\\n",
       "0  Approve   NaN           30.26965        30.40103        -0.13138   \n",
       "\n",
       "  performance_group  % can't tell (google form, existence only)  \\\n",
       "0          low_perf                                         NaN   \n",
       "\n",
       "   % can tell (google form, existence only)  \\\n",
       "0                                       NaN   \n",
       "\n",
       "   % unsure (google form, existence only)  Caption edited  Foil edited  \\\n",
       "0                                     NaN             NaN          NaN   \n",
       "\n",
       "           filename  \n",
       "0  000000001584.jpg  "
      ]
     },
     "execution_count": 21,
     "metadata": {},
     "output_type": "execute_result"
    }
   ],
   "source": [
    "# add filename field to each row in correct stimuli\n",
    "correct_stimuli_clip_data['filename'] = [os.path.basename(img_path) for img_path in correct_stimuli_clip_data['img_path']]\n",
    "correct_stimuli_clip_data.head(1)"
   ]
  },
  {
   "cell_type": "code",
   "execution_count": 26,
   "metadata": {},
   "outputs": [
    {
     "data": {
      "text/plain": [
       "(30.2696495056152, 30.4010295867919, -0.131380081176757)"
      ]
     },
     "execution_count": 26,
     "metadata": {},
     "output_type": "execute_result"
    }
   ],
   "source": [
    "def get_clip_data(img_path):\n",
    "    \"\"\"Return clip_pred_caption, clip_pred_foil, and clip_pred_diff for filename from the correct_stimuli_clip_data\"\"\"\n",
    "    row = correct_stimuli_clip_data[correct_stimuli_clip_data['img_path']==img_path].iloc[0]\n",
    "    return row['clip_pred_caption'], row['clip_pred_foil'], row['clip_pred_diff']\n",
    "get_clip_data(\"../VALSE_data/images/coco2017/000000001584.jpg\")\n"
   ]
  },
  {
   "cell_type": "markdown",
   "metadata": {},
   "source": [
    "Loop through stimuli dataframes and replace CLIP scores with correct values for each filename:"
   ]
  },
  {
   "cell_type": "code",
   "execution_count": 28,
   "metadata": {},
   "outputs": [],
   "source": [
    "new_stim_dfs = [] # new versions of each stimuli df will be stored here\n",
    "\n",
    "for stim in stim_1, stim_2, stim_3:\n",
    "    new_stim = stim.copy()\n",
    "\n",
    "    for index, row in stim.iterrows():\n",
    "        img_path = row['img_path']\n",
    "\n",
    "        # update values based on correct CLIP values for that img_path\n",
    "        new_stim.loc[index, \"clip_pred_caption\"], new_stim.loc[index, \"clip_pred_foil\"], new_stim.loc[index, \"clip_pred_diff\"] = get_clip_data(img_path)\n",
    "\n",
    "    new_stim_dfs.append(new_stim)\n",
    "\n"
   ]
  },
  {
   "cell_type": "markdown",
   "metadata": {},
   "source": [
    "### Checking that the new dataframes are in the same order etc"
   ]
  },
  {
   "cell_type": "code",
   "execution_count": 44,
   "metadata": {},
   "outputs": [
    {
     "data": {
      "text/html": [
       "<div>\n",
       "<style scoped>\n",
       "    .dataframe tbody tr th:only-of-type {\n",
       "        vertical-align: middle;\n",
       "    }\n",
       "\n",
       "    .dataframe tbody tr th {\n",
       "        vertical-align: top;\n",
       "    }\n",
       "\n",
       "    .dataframe thead th {\n",
       "        text-align: right;\n",
       "    }\n",
       "</style>\n",
       "<table border=\"1\" class=\"dataframe\">\n",
       "  <thead>\n",
       "    <tr style=\"text-align: right;\">\n",
       "      <th></th>\n",
       "      <th>Unnamed: 0</th>\n",
       "      <th>Selection</th>\n",
       "      <th>img_path</th>\n",
       "      <th>caption</th>\n",
       "      <th>foil</th>\n",
       "      <th>linguistic_phenomena</th>\n",
       "      <th>Approval</th>\n",
       "      <th>Notes</th>\n",
       "      <th>clip_pred_caption</th>\n",
       "      <th>clip_pred_foil</th>\n",
       "      <th>clip_pred_diff</th>\n",
       "      <th>performance_group</th>\n",
       "      <th>% can't tell (google form, existence only)</th>\n",
       "      <th>% can tell (google form, existence only)</th>\n",
       "      <th>% unsure (google form, existence only)</th>\n",
       "      <th>Caption edited</th>\n",
       "      <th>Foil edited</th>\n",
       "    </tr>\n",
       "  </thead>\n",
       "  <tbody>\n",
       "    <tr>\n",
       "      <th>0</th>\n",
       "      <td>213</td>\n",
       "      <td>Existence set (Jan 16, validated thru Google F...</td>\n",
       "      <td>../VALSE_data/images/v7w/v7w_2318073.jpg</td>\n",
       "      <td>There is at least one light.</td>\n",
       "      <td>There are no lights.</td>\n",
       "      <td>existence</td>\n",
       "      <td>Approve</td>\n",
       "      <td>40% can't answer based on blurrred image, 40% ...</td>\n",
       "      <td>2207435417</td>\n",
       "      <td>2142858887</td>\n",
       "      <td>0.645765</td>\n",
       "      <td>medium_perf</td>\n",
       "      <td>40.0</td>\n",
       "      <td>40.0</td>\n",
       "      <td>20.0</td>\n",
       "      <td>True</td>\n",
       "      <td>False</td>\n",
       "    </tr>\n",
       "  </tbody>\n",
       "</table>\n",
       "</div>"
      ],
      "text/plain": [
       "   Unnamed: 0                                          Selection  \\\n",
       "0         213  Existence set (Jan 16, validated thru Google F...   \n",
       "\n",
       "                                   img_path                       caption  \\\n",
       "0  ../VALSE_data/images/v7w/v7w_2318073.jpg  There is at least one light.   \n",
       "\n",
       "                   foil linguistic_phenomena Approval  \\\n",
       "0  There are no lights.            existence  Approve   \n",
       "\n",
       "                                               Notes  clip_pred_caption  \\\n",
       "0  40% can't answer based on blurrred image, 40% ...         2207435417   \n",
       "\n",
       "   clip_pred_foil  clip_pred_diff performance_group  \\\n",
       "0      2142858887        0.645765       medium_perf   \n",
       "\n",
       "   % can't tell (google form, existence only)  \\\n",
       "0                                        40.0   \n",
       "\n",
       "   % can tell (google form, existence only)  \\\n",
       "0                                      40.0   \n",
       "\n",
       "   % unsure (google form, existence only)  Caption edited  Foil edited  \n",
       "0                                    20.0            True        False  "
      ]
     },
     "execution_count": 44,
     "metadata": {},
     "output_type": "execute_result"
    }
   ],
   "source": [
    "stim_1.head(1)"
   ]
  },
  {
   "cell_type": "code",
   "execution_count": 43,
   "metadata": {},
   "outputs": [
    {
     "data": {
      "text/html": [
       "<div>\n",
       "<style scoped>\n",
       "    .dataframe tbody tr th:only-of-type {\n",
       "        vertical-align: middle;\n",
       "    }\n",
       "\n",
       "    .dataframe tbody tr th {\n",
       "        vertical-align: top;\n",
       "    }\n",
       "\n",
       "    .dataframe thead th {\n",
       "        text-align: right;\n",
       "    }\n",
       "</style>\n",
       "<table border=\"1\" class=\"dataframe\">\n",
       "  <thead>\n",
       "    <tr style=\"text-align: right;\">\n",
       "      <th></th>\n",
       "      <th>Unnamed: 0</th>\n",
       "      <th>Selection</th>\n",
       "      <th>img_path</th>\n",
       "      <th>caption</th>\n",
       "      <th>foil</th>\n",
       "      <th>linguistic_phenomena</th>\n",
       "      <th>Approval</th>\n",
       "      <th>Notes</th>\n",
       "      <th>clip_pred_caption</th>\n",
       "      <th>clip_pred_foil</th>\n",
       "      <th>clip_pred_diff</th>\n",
       "      <th>performance_group</th>\n",
       "      <th>% can't tell (google form, existence only)</th>\n",
       "      <th>% can tell (google form, existence only)</th>\n",
       "      <th>% unsure (google form, existence only)</th>\n",
       "      <th>Caption edited</th>\n",
       "      <th>Foil edited</th>\n",
       "    </tr>\n",
       "  </thead>\n",
       "  <tbody>\n",
       "    <tr>\n",
       "      <th>0</th>\n",
       "      <td>213</td>\n",
       "      <td>Existence set (Jan 16, validated thru Google F...</td>\n",
       "      <td>../VALSE_data/images/v7w/v7w_2318073.jpg</td>\n",
       "      <td>There is at least one light.</td>\n",
       "      <td>There are no lights.</td>\n",
       "      <td>existence</td>\n",
       "      <td>Approve</td>\n",
       "      <td>40% can't answer based on blurrred image, 40% ...</td>\n",
       "      <td>22.074354</td>\n",
       "      <td>21.428589</td>\n",
       "      <td>0.645765</td>\n",
       "      <td>medium_perf</td>\n",
       "      <td>40.0</td>\n",
       "      <td>40.0</td>\n",
       "      <td>20.0</td>\n",
       "      <td>True</td>\n",
       "      <td>False</td>\n",
       "    </tr>\n",
       "  </tbody>\n",
       "</table>\n",
       "</div>"
      ],
      "text/plain": [
       "   Unnamed: 0                                          Selection  \\\n",
       "0         213  Existence set (Jan 16, validated thru Google F...   \n",
       "\n",
       "                                   img_path                       caption  \\\n",
       "0  ../VALSE_data/images/v7w/v7w_2318073.jpg  There is at least one light.   \n",
       "\n",
       "                   foil linguistic_phenomena Approval  \\\n",
       "0  There are no lights.            existence  Approve   \n",
       "\n",
       "                                               Notes  clip_pred_caption  \\\n",
       "0  40% can't answer based on blurrred image, 40% ...          22.074354   \n",
       "\n",
       "   clip_pred_foil  clip_pred_diff performance_group  \\\n",
       "0       21.428589        0.645765       medium_perf   \n",
       "\n",
       "   % can't tell (google form, existence only)  \\\n",
       "0                                        40.0   \n",
       "\n",
       "   % can tell (google form, existence only)  \\\n",
       "0                                      40.0   \n",
       "\n",
       "   % unsure (google form, existence only)  Caption edited  Foil edited  \n",
       "0                                    20.0            True        False  "
      ]
     },
     "execution_count": 43,
     "metadata": {},
     "output_type": "execute_result"
    }
   ],
   "source": [
    "new_stim_dfs[0].head(1)"
   ]
  },
  {
   "cell_type": "code",
   "execution_count": 42,
   "metadata": {},
   "outputs": [
    {
     "data": {
      "text/plain": [
       "0     True\n",
       "1     True\n",
       "2     True\n",
       "3     True\n",
       "4     True\n",
       "5     True\n",
       "6     True\n",
       "7     True\n",
       "8     True\n",
       "9     True\n",
       "10    True\n",
       "11    True\n",
       "12    True\n",
       "13    True\n",
       "14    True\n",
       "15    True\n",
       "16    True\n",
       "17    True\n",
       "18    True\n",
       "19    True\n",
       "20    True\n",
       "21    True\n",
       "22    True\n",
       "23    True\n",
       "24    True\n",
       "25    True\n",
       "26    True\n",
       "27    True\n",
       "28    True\n",
       "29    True\n",
       "30    True\n",
       "31    True\n",
       "32    True\n",
       "Name: img_path, dtype: bool"
      ]
     },
     "execution_count": 42,
     "metadata": {},
     "output_type": "execute_result"
    }
   ],
   "source": [
    "stim_2.img_path == new_stim_dfs[1].img_path"
   ]
  },
  {
   "cell_type": "markdown",
   "metadata": {},
   "source": [
    "# Export new versions\n"
   ]
  },
  {
   "cell_type": "code",
   "execution_count": 46,
   "metadata": {},
   "outputs": [],
   "source": [
    "\n",
    "for i, df in enumerate(new_stim_dfs):\n",
    "    df.to_pickle(f\"final_stimuli/stimuli_{i+1}_fixed_clip_values.pickle\")"
   ]
  },
  {
   "cell_type": "markdown",
   "metadata": {},
   "source": []
  }
 ],
 "metadata": {
  "kernelspec": {
   "display_name": "Python 3",
   "language": "python",
   "name": "python3"
  },
  "language_info": {
   "codemirror_mode": {
    "name": "ipython",
    "version": 3
   },
   "file_extension": ".py",
   "mimetype": "text/x-python",
   "name": "python",
   "nbconvert_exporter": "python",
   "pygments_lexer": "ipython3",
   "version": "3.10.0"
  }
 },
 "nbformat": 4,
 "nbformat_minor": 2
}

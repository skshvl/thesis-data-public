{
 "cells": [
  {
   "cell_type": "code",
   "execution_count": null,
   "metadata": {},
   "outputs": [],
   "source": []
  },
  {
   "cell_type": "markdown",
   "metadata": {},
   "source": [
    "For priviacy purposes delete all the prolific user ids"
   ]
  },
  {
   "cell_type": "code",
   "execution_count": 2,
   "metadata": {},
   "outputs": [
    {
     "name": "stdout",
     "output_type": "stream",
     "text": [
      "dropped prolific id from pilot_raw_output/20240129171236522904_stimuli1.pickle\n",
      "dropped prolific id from pilot_raw_output/20240130115317958452_stimuli1.pickle\n"
     ]
    }
   ],
   "source": [
    "\n",
    "import os\n",
    "import pandas as pd\n",
    "\n",
    "directory_path = 'pilot_raw_output' # study_raw_output\n",
    "\n",
    "pickle_files = [f for f in os.listdir(directory_path) if f.endswith('.pickle')]  # list pickle files\n",
    "\n",
    "for file in pickle_files:  # iterate files\n",
    "    file_path = os.path.join(directory_path, file)\n",
    "    df = pd.read_pickle(file_path)  # load dataframe\n",
    "    if 'prolific_user_id' in df.columns:  # check column\n",
    "        df.drop(columns=['prolific_user_id'], inplace=True)  # drop column\n",
    "        print(\"dropped prolific id from\", file_path)\n",
    "        df.to_pickle(file_path)  # save updated dataframe"
   ]
  },
  {
   "cell_type": "markdown",
   "metadata": {},
   "source": []
  }
 ],
 "metadata": {
  "kernelspec": {
   "display_name": "Python 3",
   "language": "python",
   "name": "python3"
  },
  "language_info": {
   "codemirror_mode": {
    "name": "ipython",
    "version": 3
   },
   "file_extension": ".py",
   "mimetype": "text/x-python",
   "name": "python",
   "nbconvert_exporter": "python",
   "pygments_lexer": "ipython3",
   "version": "3.10.0"
  }
 },
 "nbformat": 4,
 "nbformat_minor": 2
}

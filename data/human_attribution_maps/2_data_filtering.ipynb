{
 "cells": [
  {
   "cell_type": "markdown",
   "metadata": {},
   "source": [
    "# Import all 15 original + 2 additional (stimuli99) user submissions and generate a final dataframe of validated attention maps"
   ]
  },
  {
   "cell_type": "code",
   "execution_count": 1,
   "metadata": {},
   "outputs": [
    {
     "data": {
      "text/html": [
       "<div>\n",
       "<style scoped>\n",
       "    .dataframe tbody tr th:only-of-type {\n",
       "        vertical-align: middle;\n",
       "    }\n",
       "\n",
       "    .dataframe tbody tr th {\n",
       "        vertical-align: top;\n",
       "    }\n",
       "\n",
       "    .dataframe thead th {\n",
       "        text-align: right;\n",
       "    }\n",
       "</style>\n",
       "<table border=\"1\" class=\"dataframe\">\n",
       "  <thead>\n",
       "    <tr style=\"text-align: right;\">\n",
       "      <th></th>\n",
       "      <th>instance_id</th>\n",
       "      <th>mask</th>\n",
       "      <th>points_clicked</th>\n",
       "      <th>filename</th>\n",
       "      <th>answer</th>\n",
       "      <th>time_to_submit</th>\n",
       "      <th>prolific_session_id</th>\n",
       "      <th>nr_clicks</th>\n",
       "      <th>caption</th>\n",
       "      <th>foil</th>\n",
       "      <th>linguistic_phenomena</th>\n",
       "      <th>Approval</th>\n",
       "      <th>clip_pred_diff</th>\n",
       "      <th>img_path</th>\n",
       "    </tr>\n",
       "  </thead>\n",
       "  <tbody>\n",
       "    <tr>\n",
       "      <th>0</th>\n",
       "      <td>20240209102845833682</td>\n",
       "      <td>[[1.0, 1.0, 1.0, 1.0, 1.0, 1.0, 1.0, 1.0, 1.0,...</td>\n",
       "      <td>[(177.5, 226), (65.5, 275), (67.5, 283), (367....</td>\n",
       "      <td>000000057027.jpg</td>\n",
       "      <td>caption</td>\n",
       "      <td>76.445115</td>\n",
       "      <td>65c5fe51fd295062720c7d34</td>\n",
       "      <td>6</td>\n",
       "      <td>A baby elephant walks with an older elephant</td>\n",
       "      <td>A baby elephant walks past an older elephant</td>\n",
       "      <td>relations</td>\n",
       "      <td>Approve</td>\n",
       "      <td>0.524429</td>\n",
       "      <td>../VALSE_data/images/coco2017/000000057027.jpg</td>\n",
       "    </tr>\n",
       "    <tr>\n",
       "      <th>1</th>\n",
       "      <td>20240209102845833682</td>\n",
       "      <td>[[1.0, 1.0, 1.0, 1.0, 1.0, 1.0, 1.0, 1.0, 1.0,...</td>\n",
       "      <td>[]</td>\n",
       "      <td>000000089880.jpg</td>\n",
       "      <td>caption</td>\n",
       "      <td>22.898880</td>\n",
       "      <td>65c5fe51fd295062720c7d34</td>\n",
       "      <td>0</td>\n",
       "      <td>Two dogs are playing together on the grass</td>\n",
       "      <td>Two dogs are playing together under the grass</td>\n",
       "      <td>relations</td>\n",
       "      <td>Approve</td>\n",
       "      <td>0.743427</td>\n",
       "      <td>../VALSE_data/images/coco2017/000000089880.jpg</td>\n",
       "    </tr>\n",
       "  </tbody>\n",
       "</table>\n",
       "</div>"
      ],
      "text/plain": [
       "            instance_id                                               mask  \\\n",
       "0  20240209102845833682  [[1.0, 1.0, 1.0, 1.0, 1.0, 1.0, 1.0, 1.0, 1.0,...   \n",
       "1  20240209102845833682  [[1.0, 1.0, 1.0, 1.0, 1.0, 1.0, 1.0, 1.0, 1.0,...   \n",
       "\n",
       "                                      points_clicked          filename  \\\n",
       "0  [(177.5, 226), (65.5, 275), (67.5, 283), (367....  000000057027.jpg   \n",
       "1                                                 []  000000089880.jpg   \n",
       "\n",
       "    answer  time_to_submit       prolific_session_id  nr_clicks  \\\n",
       "0  caption       76.445115  65c5fe51fd295062720c7d34          6   \n",
       "1  caption       22.898880  65c5fe51fd295062720c7d34          0   \n",
       "\n",
       "                                        caption  \\\n",
       "0  A baby elephant walks with an older elephant   \n",
       "1    Two dogs are playing together on the grass   \n",
       "\n",
       "                                            foil linguistic_phenomena  \\\n",
       "0   A baby elephant walks past an older elephant            relations   \n",
       "1  Two dogs are playing together under the grass            relations   \n",
       "\n",
       "  Approval  clip_pred_diff                                        img_path  \n",
       "0  Approve        0.524429  ../VALSE_data/images/coco2017/000000057027.jpg  \n",
       "1  Approve        0.743427  ../VALSE_data/images/coco2017/000000089880.jpg  "
      ]
     },
     "execution_count": 1,
     "metadata": {},
     "output_type": "execute_result"
    }
   ],
   "source": [
    "import os\n",
    "import pandas as pd\n",
    "from collections import Counter\n",
    "\n",
    "df = pd.read_pickle(\"1_merged_prolific_data.pickle\")\n",
    "df.head(2)"
   ]
  },
  {
   "cell_type": "markdown",
   "metadata": {},
   "source": [
    "### Also create a version without the training stimulus"
   ]
  },
  {
   "cell_type": "code",
   "execution_count": 2,
   "metadata": {},
   "outputs": [
    {
     "data": {
      "text/plain": [
       "529"
      ]
     },
     "execution_count": 2,
     "metadata": {},
     "output_type": "execute_result"
    }
   ],
   "source": [
    "df_without_train_stim = df[df['filename'] != 'v7w_2391321.jpg'] # without the cow\n",
    "len(df_without_train_stim)"
   ]
  },
  {
   "cell_type": "code",
   "execution_count": 3,
   "metadata": {},
   "outputs": [
    {
     "data": {
      "text/plain": [
       "99"
      ]
     },
     "execution_count": 3,
     "metadata": {},
     "output_type": "execute_result"
    }
   ],
   "source": [
    "len(set(df_without_train_stim.filename))"
   ]
  },
  {
   "cell_type": "markdown",
   "metadata": {},
   "source": [
    "### Validation of user-stimulus interactions\n",
    "\n",
    "1. Filter to only the rows with clicked points\n"
   ]
  },
  {
   "cell_type": "code",
   "execution_count": 4,
   "metadata": {},
   "outputs": [
    {
     "data": {
      "text/plain": [
       "414"
      ]
     },
     "execution_count": 4,
     "metadata": {},
     "output_type": "execute_result"
    }
   ],
   "source": [
    "filter_df = df_without_train_stim[df_without_train_stim['points_clicked'].astype(bool)]\n",
    "len(filter_df)"
   ]
  },
  {
   "cell_type": "markdown",
   "metadata": {},
   "source": [
    "2. Filter those to only rows with answer == caption"
   ]
  },
  {
   "cell_type": "code",
   "execution_count": 5,
   "metadata": {},
   "outputs": [
    {
     "data": {
      "text/plain": [
       "357"
      ]
     },
     "execution_count": 5,
     "metadata": {},
     "output_type": "execute_result"
    }
   ],
   "source": [
    "filter_df = filter_df[filter_df['answer']==\"caption\"]\n",
    "len(filter_df)"
   ]
  },
  {
   "cell_type": "code",
   "execution_count": 6,
   "metadata": {},
   "outputs": [
    {
     "data": {
      "text/plain": [
       "98"
      ]
     },
     "execution_count": 6,
     "metadata": {},
     "output_type": "execute_result"
    }
   ],
   "source": [
    "len(set(filter_df.filename)) # number of filenames that have at least one validated submission"
   ]
  },
  {
   "cell_type": "markdown",
   "metadata": {},
   "source": [
    "3. Run stats on this to see how many are left for each file"
   ]
  },
  {
   "cell_type": "code",
   "execution_count": 7,
   "metadata": {},
   "outputs": [
    {
     "name": "stdout",
     "output_type": "stream",
     "text": [
      "The following lists how many filenames have each count of submissions that are correct and have points clicked\n"
     ]
    },
    {
     "data": {
      "text/plain": [
       "4    38\n",
       "3    37\n",
       "5    17\n",
       "2     3\n",
       "1     3\n",
       "Name: count, dtype: int64"
      ]
     },
     "execution_count": 7,
     "metadata": {},
     "output_type": "execute_result"
    }
   ],
   "source": [
    "filename_counts = filter_df.groupby(['filename']).size()\n",
    "print(\"The following lists how many filenames have each count of submissions that are correct and have points clicked\")\n",
    "filename_counts.value_counts() # this sums to 98 but that is because one file evidently has NO cases where correct caption + clicks"
   ]
  },
  {
   "cell_type": "code",
   "execution_count": 8,
   "metadata": {},
   "outputs": [
    {
     "data": {
      "text/plain": [
       "98"
      ]
     },
     "execution_count": 8,
     "metadata": {},
     "output_type": "execute_result"
    }
   ],
   "source": [
    "len(filter_df.groupby(['filename']))"
   ]
  },
  {
   "cell_type": "code",
   "execution_count": 9,
   "metadata": {},
   "outputs": [
    {
     "data": {
      "text/plain": [
       "'000000389684.jpg'"
      ]
     },
     "execution_count": 9,
     "metadata": {},
     "output_type": "execute_result"
    }
   ],
   "source": [
    "# one file is MISSING -- which one?\n",
    "\n",
    "for filename in set(df_without_train_stim.filename):\n",
    "    if filename not in set(filter_df.filename):\n",
    "        missing = filename\n",
    "missing"
   ]
  },
  {
   "cell_type": "code",
   "execution_count": null,
   "metadata": {},
   "outputs": [],
   "source": []
  },
  {
   "cell_type": "markdown",
   "metadata": {},
   "source": [
    "4. Generate list of filenames which: have 3+ correct answers with points clicked"
   ]
  },
  {
   "cell_type": "code",
   "execution_count": 10,
   "metadata": {},
   "outputs": [
    {
     "name": "stdout",
     "output_type": "stream",
     "text": [
      "After filtering the dataframe we found that 92 out of 99 stimuli had at least 3/5 answers that were both correct and contained points\n"
     ]
    }
   ],
   "source": [
    "filtered_filenames = filename_counts[filename_counts >= 3].index\n",
    "print(f\"After filtering the dataframe we found that {len(filtered_filenames)} out of 99 stimuli had at least 3/5 answers that were both correct and contained points\")"
   ]
  },
  {
   "cell_type": "markdown",
   "metadata": {},
   "source": [
    "5. Generate dataframe containing only filenames **which have 3+ validated submissions**"
   ]
  },
  {
   "cell_type": "code",
   "execution_count": 11,
   "metadata": {},
   "outputs": [
    {
     "data": {
      "text/html": [
       "<div>\n",
       "<style scoped>\n",
       "    .dataframe tbody tr th:only-of-type {\n",
       "        vertical-align: middle;\n",
       "    }\n",
       "\n",
       "    .dataframe tbody tr th {\n",
       "        vertical-align: top;\n",
       "    }\n",
       "\n",
       "    .dataframe thead th {\n",
       "        text-align: right;\n",
       "    }\n",
       "</style>\n",
       "<table border=\"1\" class=\"dataframe\">\n",
       "  <thead>\n",
       "    <tr style=\"text-align: right;\">\n",
       "      <th></th>\n",
       "      <th>instance_id</th>\n",
       "      <th>mask</th>\n",
       "      <th>points_clicked</th>\n",
       "      <th>filename</th>\n",
       "      <th>answer</th>\n",
       "      <th>time_to_submit</th>\n",
       "      <th>prolific_session_id</th>\n",
       "      <th>nr_clicks</th>\n",
       "      <th>caption</th>\n",
       "      <th>foil</th>\n",
       "      <th>linguistic_phenomena</th>\n",
       "      <th>Approval</th>\n",
       "      <th>clip_pred_diff</th>\n",
       "      <th>img_path</th>\n",
       "    </tr>\n",
       "  </thead>\n",
       "  <tbody>\n",
       "    <tr>\n",
       "      <th>0</th>\n",
       "      <td>20240209102845833682</td>\n",
       "      <td>[[1.0, 1.0, 1.0, 1.0, 1.0, 1.0, 1.0, 1.0, 1.0,...</td>\n",
       "      <td>[(177.5, 226), (65.5, 275), (67.5, 283), (367....</td>\n",
       "      <td>000000057027.jpg</td>\n",
       "      <td>caption</td>\n",
       "      <td>76.445115</td>\n",
       "      <td>65c5fe51fd295062720c7d34</td>\n",
       "      <td>6</td>\n",
       "      <td>A baby elephant walks with an older elephant</td>\n",
       "      <td>A baby elephant walks past an older elephant</td>\n",
       "      <td>relations</td>\n",
       "      <td>Approve</td>\n",
       "      <td>0.524429</td>\n",
       "      <td>../VALSE_data/images/coco2017/000000057027.jpg</td>\n",
       "    </tr>\n",
       "  </tbody>\n",
       "</table>\n",
       "</div>"
      ],
      "text/plain": [
       "            instance_id                                               mask  \\\n",
       "0  20240209102845833682  [[1.0, 1.0, 1.0, 1.0, 1.0, 1.0, 1.0, 1.0, 1.0,...   \n",
       "\n",
       "                                      points_clicked          filename  \\\n",
       "0  [(177.5, 226), (65.5, 275), (67.5, 283), (367....  000000057027.jpg   \n",
       "\n",
       "    answer  time_to_submit       prolific_session_id  nr_clicks  \\\n",
       "0  caption       76.445115  65c5fe51fd295062720c7d34          6   \n",
       "\n",
       "                                        caption  \\\n",
       "0  A baby elephant walks with an older elephant   \n",
       "\n",
       "                                           foil linguistic_phenomena Approval  \\\n",
       "0  A baby elephant walks past an older elephant            relations  Approve   \n",
       "\n",
       "   clip_pred_diff                                        img_path  \n",
       "0        0.524429  ../VALSE_data/images/coco2017/000000057027.jpg  "
      ]
     },
     "execution_count": 11,
     "metadata": {},
     "output_type": "execute_result"
    }
   ],
   "source": [
    "filter_df = filter_df[filter_df['filename'].isin(filtered_filenames)]\n",
    "filter_df.head(1)"
   ]
  },
  {
   "cell_type": "markdown",
   "metadata": {},
   "source": [
    "### How many stimuli have 3+ validated submissions?\n",
    "\n",
    "Out of 99 original stimuli"
   ]
  },
  {
   "cell_type": "code",
   "execution_count": 12,
   "metadata": {},
   "outputs": [
    {
     "name": "stdout",
     "output_type": "stream",
     "text": [
      "Number of stimuli for which there exist 3+ submissions with 1) correct caption and 2) at least one clic: 92\n"
     ]
    }
   ],
   "source": [
    "print(\"Number of stimuli for which there exist 3+ submissions with 1) correct caption and 2) at least one clic:\", len(set(filter_df.filename)))"
   ]
  },
  {
   "cell_type": "markdown",
   "metadata": {},
   "source": [
    "Some other stats"
   ]
  },
  {
   "cell_type": "code",
   "execution_count": 13,
   "metadata": {},
   "outputs": [
    {
     "name": "stdout",
     "output_type": "stream",
     "text": [
      "Value counts for 'answer' in the final dataframe:\n",
      " answer\n",
      "caption    348\n",
      "Name: count, dtype: int64\n",
      "Minimum number of points clicked in final dataframe: 1\n"
     ]
    }
   ],
   "source": [
    "print(\"Value counts for 'answer' in the final dataframe:\\n\", filter_df.answer.value_counts())\n",
    "print(\"Minimum number of points clicked in final dataframe:\", min(len(points) for points in filter_df['points_clicked']))"
   ]
  },
  {
   "cell_type": "markdown",
   "metadata": {},
   "source": [
    "### Export final dataframe - submissions to keep"
   ]
  },
  {
   "cell_type": "code",
   "execution_count": 14,
   "metadata": {},
   "outputs": [],
   "source": [
    "filter_df.to_pickle(\"2_merged_prolific_data_filtered.pickle\")"
   ]
  },
  {
   "cell_type": "markdown",
   "metadata": {},
   "source": []
  }
 ],
 "metadata": {
  "kernelspec": {
   "display_name": "Python 3",
   "language": "python",
   "name": "python3"
  },
  "language_info": {
   "codemirror_mode": {
    "name": "ipython",
    "version": 3
   },
   "file_extension": ".py",
   "mimetype": "text/x-python",
   "name": "python",
   "nbconvert_exporter": "python",
   "pygments_lexer": "ipython3",
   "version": "3.10.0"
  }
 },
 "nbformat": 4,
 "nbformat_minor": 2
}

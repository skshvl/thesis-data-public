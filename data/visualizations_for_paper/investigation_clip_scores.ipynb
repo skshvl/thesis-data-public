{
 "cells": [
  {
   "cell_type": "markdown",
   "metadata": {},
   "source": [
    "Interested to investigate whether the CLIP scores we used to sort the initial stimuli into bins match the scores assigned at the very end of the process, as there may be small differences in implementation between the initial and final CLIP implementations.\n",
    "\n",
    "All stimuli"
   ]
  },
  {
   "cell_type": "code",
   "execution_count": 1,
   "metadata": {},
   "outputs": [],
   "source": [
    "import pandas as pd\n",
    "\n",
    "stimuli_df = pd.read_pickle(\"../stimuli/all_stimuli_with_initial_clip_score.pickle\").sort_values(by=['filename'])\n",
    "\n",
    "new_clip_stimuli_scores = pd.read_pickle(\"../xai_maps/xai_output/CLIP_stimuli_output_scores.pickle\")\n",
    "\n",
    "new_clip_valse_scores = pd.read_pickle(\"../xai_maps/xai_output/CLIP_all_of_valse_output_scores.pickle\")"
   ]
  },
  {
   "cell_type": "code",
   "execution_count": 2,
   "metadata": {},
   "outputs": [
    {
     "data": {
      "text/html": [
       "<div>\n",
       "<style scoped>\n",
       "    .dataframe tbody tr th:only-of-type {\n",
       "        vertical-align: middle;\n",
       "    }\n",
       "\n",
       "    .dataframe tbody tr th {\n",
       "        vertical-align: top;\n",
       "    }\n",
       "\n",
       "    .dataframe thead th {\n",
       "        text-align: right;\n",
       "    }\n",
       "</style>\n",
       "<table border=\"1\" class=\"dataframe\">\n",
       "  <thead>\n",
       "    <tr style=\"text-align: right;\">\n",
       "      <th></th>\n",
       "      <th>index</th>\n",
       "      <th>Unnamed: 0</th>\n",
       "      <th>Selection</th>\n",
       "      <th>img_path</th>\n",
       "      <th>caption</th>\n",
       "      <th>foil</th>\n",
       "      <th>linguistic_phenomena</th>\n",
       "      <th>Approval</th>\n",
       "      <th>Notes</th>\n",
       "      <th>clip_pred_caption</th>\n",
       "      <th>clip_pred_foil</th>\n",
       "      <th>clip_pred_diff</th>\n",
       "      <th>performance_group</th>\n",
       "      <th>% can't tell (google form, existence only)</th>\n",
       "      <th>% can tell (google form, existence only)</th>\n",
       "      <th>% unsure (google form, existence only)</th>\n",
       "      <th>Caption edited</th>\n",
       "      <th>Foil edited</th>\n",
       "      <th>filename</th>\n",
       "    </tr>\n",
       "  </thead>\n",
       "  <tbody>\n",
       "    <tr>\n",
       "      <th>88</th>\n",
       "      <td>22</td>\n",
       "      <td>0</td>\n",
       "      <td>First set (Jan 16)</td>\n",
       "      <td>../VALSE_data/images/coco2017/000000001584.jpg</td>\n",
       "      <td>The red, double decker bus is driving past oth...</td>\n",
       "      <td>The red, double decker bus is driving towards ...</td>\n",
       "      <td>relations</td>\n",
       "      <td>Approve</td>\n",
       "      <td>NaN</td>\n",
       "      <td>30.269650</td>\n",
       "      <td>30.401030</td>\n",
       "      <td>-0.131380</td>\n",
       "      <td>low_perf</td>\n",
       "      <td>NaN</td>\n",
       "      <td>NaN</td>\n",
       "      <td>NaN</td>\n",
       "      <td>False</td>\n",
       "      <td>False</td>\n",
       "      <td>000000001584.jpg</td>\n",
       "    </tr>\n",
       "    <tr>\n",
       "      <th>22</th>\n",
       "      <td>22</td>\n",
       "      <td>1</td>\n",
       "      <td>First set (Jan 16)</td>\n",
       "      <td>../VALSE_data/images/coco2017/000000005529.jpg</td>\n",
       "      <td>A person on skis is skiing down a snowy hill.</td>\n",
       "      <td>A person on skis is skiing up a snowy hill.</td>\n",
       "      <td>relations</td>\n",
       "      <td>Approve</td>\n",
       "      <td>NaN</td>\n",
       "      <td>29.881712</td>\n",
       "      <td>29.797729</td>\n",
       "      <td>0.083982</td>\n",
       "      <td>medium_perf</td>\n",
       "      <td>NaN</td>\n",
       "      <td>NaN</td>\n",
       "      <td>NaN</td>\n",
       "      <td>False</td>\n",
       "      <td>False</td>\n",
       "      <td>000000005529.jpg</td>\n",
       "    </tr>\n",
       "  </tbody>\n",
       "</table>\n",
       "</div>"
      ],
      "text/plain": [
       "    index  Unnamed: 0           Selection  \\\n",
       "88     22           0  First set (Jan 16)   \n",
       "22     22           1  First set (Jan 16)   \n",
       "\n",
       "                                          img_path  \\\n",
       "88  ../VALSE_data/images/coco2017/000000001584.jpg   \n",
       "22  ../VALSE_data/images/coco2017/000000005529.jpg   \n",
       "\n",
       "                                              caption  \\\n",
       "88  The red, double decker bus is driving past oth...   \n",
       "22      A person on skis is skiing down a snowy hill.   \n",
       "\n",
       "                                                 foil linguistic_phenomena  \\\n",
       "88  The red, double decker bus is driving towards ...            relations   \n",
       "22        A person on skis is skiing up a snowy hill.            relations   \n",
       "\n",
       "   Approval Notes  clip_pred_caption  clip_pred_foil  clip_pred_diff  \\\n",
       "88  Approve   NaN          30.269650       30.401030       -0.131380   \n",
       "22  Approve   NaN          29.881712       29.797729        0.083982   \n",
       "\n",
       "   performance_group  % can't tell (google form, existence only)  \\\n",
       "88          low_perf                                         NaN   \n",
       "22       medium_perf                                         NaN   \n",
       "\n",
       "    % can tell (google form, existence only)  \\\n",
       "88                                       NaN   \n",
       "22                                       NaN   \n",
       "\n",
       "    % unsure (google form, existence only)  Caption edited  Foil edited  \\\n",
       "88                                     NaN           False        False   \n",
       "22                                     NaN           False        False   \n",
       "\n",
       "            filename  \n",
       "88  000000001584.jpg  \n",
       "22  000000005529.jpg  "
      ]
     },
     "execution_count": 2,
     "metadata": {},
     "output_type": "execute_result"
    }
   ],
   "source": [
    "stimuli_df.head(2)"
   ]
  },
  {
   "cell_type": "markdown",
   "metadata": {},
   "source": [
    "### First, confirm that VALSE and stimuli alone has the exact same output values -- this is unrelated to the main task of this notebook"
   ]
  },
  {
   "cell_type": "code",
   "execution_count": 3,
   "metadata": {},
   "outputs": [],
   "source": [
    "new_clip_valse_scores_filtered = new_clip_valse_scores[new_clip_valse_scores['img_path'].isin(list(new_clip_stimuli_scores['img_path']))]"
   ]
  },
  {
   "cell_type": "code",
   "execution_count": 4,
   "metadata": {},
   "outputs": [
    {
     "data": {
      "text/html": [
       "<div>\n",
       "<style scoped>\n",
       "    .dataframe tbody tr th:only-of-type {\n",
       "        vertical-align: middle;\n",
       "    }\n",
       "\n",
       "    .dataframe tbody tr th {\n",
       "        vertical-align: top;\n",
       "    }\n",
       "\n",
       "    .dataframe thead th {\n",
       "        text-align: right;\n",
       "    }\n",
       "</style>\n",
       "<table border=\"1\" class=\"dataframe\">\n",
       "  <thead>\n",
       "    <tr style=\"text-align: right;\">\n",
       "      <th></th>\n",
       "      <th>img_path</th>\n",
       "      <th>caption</th>\n",
       "      <th>foil</th>\n",
       "      <th>linguistic_phenomena</th>\n",
       "      <th>model_pred_caption</th>\n",
       "      <th>model_pred_foil</th>\n",
       "      <th>model_pred_diff</th>\n",
       "    </tr>\n",
       "  </thead>\n",
       "  <tbody>\n",
       "    <tr>\n",
       "      <th>503</th>\n",
       "      <td>../../VALSE_data/images/coco2017/000000001584.jpg</td>\n",
       "      <td>The red, double decker bus is driving past oth...</td>\n",
       "      <td>The red, double decker bus is driving towards ...</td>\n",
       "      <td>relations</td>\n",
       "      <td>30.269650</td>\n",
       "      <td>30.401030</td>\n",
       "      <td>-0.131380</td>\n",
       "    </tr>\n",
       "    <tr>\n",
       "      <th>453</th>\n",
       "      <td>../../VALSE_data/images/coco2017/000000005529.jpg</td>\n",
       "      <td>A person on skis is skiing down a snowy hill.</td>\n",
       "      <td>A person on skis is skiing up a snowy hill.</td>\n",
       "      <td>relations</td>\n",
       "      <td>29.881712</td>\n",
       "      <td>29.797729</td>\n",
       "      <td>0.083982</td>\n",
       "    </tr>\n",
       "    <tr>\n",
       "      <th>220</th>\n",
       "      <td>../../VALSE_data/images/coco2017/000000021903.jpg</td>\n",
       "      <td>A man reaches out to give the elephant something.</td>\n",
       "      <td>A man reaches inside to give the elephant some...</td>\n",
       "      <td>relations</td>\n",
       "      <td>31.920687</td>\n",
       "      <td>31.598303</td>\n",
       "      <td>0.322384</td>\n",
       "    </tr>\n",
       "  </tbody>\n",
       "</table>\n",
       "</div>"
      ],
      "text/plain": [
       "                                              img_path  \\\n",
       "503  ../../VALSE_data/images/coco2017/000000001584.jpg   \n",
       "453  ../../VALSE_data/images/coco2017/000000005529.jpg   \n",
       "220  ../../VALSE_data/images/coco2017/000000021903.jpg   \n",
       "\n",
       "                                               caption  \\\n",
       "503  The red, double decker bus is driving past oth...   \n",
       "453      A person on skis is skiing down a snowy hill.   \n",
       "220  A man reaches out to give the elephant something.   \n",
       "\n",
       "                                                  foil linguistic_phenomena  \\\n",
       "503  The red, double decker bus is driving towards ...            relations   \n",
       "453        A person on skis is skiing up a snowy hill.            relations   \n",
       "220  A man reaches inside to give the elephant some...            relations   \n",
       "\n",
       "     model_pred_caption  model_pred_foil  model_pred_diff  \n",
       "503           30.269650        30.401030        -0.131380  \n",
       "453           29.881712        29.797729         0.083982  \n",
       "220           31.920687        31.598303         0.322384  "
      ]
     },
     "execution_count": 4,
     "metadata": {},
     "output_type": "execute_result"
    }
   ],
   "source": [
    "new_clip_valse_scores_filtered.sort_values(by=['img_path']).head(3)"
   ]
  },
  {
   "cell_type": "code",
   "execution_count": 5,
   "metadata": {},
   "outputs": [
    {
     "data": {
      "text/html": [
       "<div>\n",
       "<style scoped>\n",
       "    .dataframe tbody tr th:only-of-type {\n",
       "        vertical-align: middle;\n",
       "    }\n",
       "\n",
       "    .dataframe tbody tr th {\n",
       "        vertical-align: top;\n",
       "    }\n",
       "\n",
       "    .dataframe thead th {\n",
       "        text-align: right;\n",
       "    }\n",
       "</style>\n",
       "<table border=\"1\" class=\"dataframe\">\n",
       "  <thead>\n",
       "    <tr style=\"text-align: right;\">\n",
       "      <th></th>\n",
       "      <th>img_path</th>\n",
       "      <th>caption</th>\n",
       "      <th>foil</th>\n",
       "      <th>linguistic_phenomena</th>\n",
       "      <th>model_pred_caption</th>\n",
       "      <th>model_pred_foil</th>\n",
       "      <th>model_pred_diff</th>\n",
       "    </tr>\n",
       "  </thead>\n",
       "  <tbody>\n",
       "    <tr>\n",
       "      <th>503</th>\n",
       "      <td>../../VALSE_data/images/coco2017/000000001584.jpg</td>\n",
       "      <td>The red, double decker bus is driving past oth...</td>\n",
       "      <td>The red, double decker bus is driving towards ...</td>\n",
       "      <td>relations</td>\n",
       "      <td>30.269650</td>\n",
       "      <td>30.401030</td>\n",
       "      <td>-0.131380</td>\n",
       "    </tr>\n",
       "    <tr>\n",
       "      <th>453</th>\n",
       "      <td>../../VALSE_data/images/coco2017/000000005529.jpg</td>\n",
       "      <td>A person on skis is skiing down a snowy hill.</td>\n",
       "      <td>A person on skis is skiing up a snowy hill.</td>\n",
       "      <td>relations</td>\n",
       "      <td>29.881712</td>\n",
       "      <td>29.797729</td>\n",
       "      <td>0.083982</td>\n",
       "    </tr>\n",
       "    <tr>\n",
       "      <th>220</th>\n",
       "      <td>../../VALSE_data/images/coco2017/000000021903.jpg</td>\n",
       "      <td>A man reaches out to give the elephant something.</td>\n",
       "      <td>A man reaches inside to give the elephant some...</td>\n",
       "      <td>relations</td>\n",
       "      <td>31.920687</td>\n",
       "      <td>31.598303</td>\n",
       "      <td>0.322384</td>\n",
       "    </tr>\n",
       "  </tbody>\n",
       "</table>\n",
       "</div>"
      ],
      "text/plain": [
       "                                              img_path  \\\n",
       "503  ../../VALSE_data/images/coco2017/000000001584.jpg   \n",
       "453  ../../VALSE_data/images/coco2017/000000005529.jpg   \n",
       "220  ../../VALSE_data/images/coco2017/000000021903.jpg   \n",
       "\n",
       "                                               caption  \\\n",
       "503  The red, double decker bus is driving past oth...   \n",
       "453      A person on skis is skiing down a snowy hill.   \n",
       "220  A man reaches out to give the elephant something.   \n",
       "\n",
       "                                                  foil linguistic_phenomena  \\\n",
       "503  The red, double decker bus is driving towards ...            relations   \n",
       "453        A person on skis is skiing up a snowy hill.            relations   \n",
       "220  A man reaches inside to give the elephant some...            relations   \n",
       "\n",
       "     model_pred_caption  model_pred_foil  model_pred_diff  \n",
       "503           30.269650        30.401030        -0.131380  \n",
       "453           29.881712        29.797729         0.083982  \n",
       "220           31.920687        31.598303         0.322384  "
      ]
     },
     "execution_count": 5,
     "metadata": {},
     "output_type": "execute_result"
    }
   ],
   "source": [
    "new_clip_valse_scores_filtered.sort_values(by=['img_path']).head(3)"
   ]
  },
  {
   "cell_type": "markdown",
   "metadata": {},
   "source": [
    "Confirmed. Now the harder part.\n",
    "\n",
    "### See relationship between old and new clip pred difference"
   ]
  },
  {
   "cell_type": "code",
   "execution_count": 6,
   "metadata": {},
   "outputs": [
    {
     "ename": "NameError",
     "evalue": "name 'os' is not defined",
     "output_type": "error",
     "traceback": [
      "\u001b[0;31m---------------------------------------------------------------------------\u001b[0m",
      "\u001b[0;31mNameError\u001b[0m                                 Traceback (most recent call last)",
      "\u001b[1;32m/Users/eduardsaakashvili/Desktop/UU/Thesis/code/es-thesis-repo/data/visualizations_for_paper/investigation_clip_scores.ipynb Cell 9\u001b[0m line \u001b[0;36m1\n\u001b[0;32m----> <a href='vscode-notebook-cell:/Users/eduardsaakashvili/Desktop/UU/Thesis/code/es-thesis-repo/data/visualizations_for_paper/investigation_clip_scores.ipynb#X11sZmlsZQ%3D%3D?line=0'>1</a>\u001b[0m new_clip_stimuli_scores[\u001b[39m'\u001b[39m\u001b[39mfilename\u001b[39m\u001b[39m'\u001b[39m] \u001b[39m=\u001b[39m [os\u001b[39m.\u001b[39mpath\u001b[39m.\u001b[39mbasename(path) \u001b[39mfor\u001b[39;00m path \u001b[39min\u001b[39;00m new_clip_stimuli_scores[\u001b[39m'\u001b[39m\u001b[39mimg_path\u001b[39m\u001b[39m'\u001b[39m]]\n\u001b[1;32m      <a href='vscode-notebook-cell:/Users/eduardsaakashvili/Desktop/UU/Thesis/code/es-thesis-repo/data/visualizations_for_paper/investigation_clip_scores.ipynb#X11sZmlsZQ%3D%3D?line=1'>2</a>\u001b[0m new_clip_stimuli_scores \u001b[39m=\u001b[39m new_clip_stimuli_scores\u001b[39m.\u001b[39msort_values(by\u001b[39m=\u001b[39m[\u001b[39m'\u001b[39m\u001b[39mfilename\u001b[39m\u001b[39m'\u001b[39m])\n\u001b[1;32m      <a href='vscode-notebook-cell:/Users/eduardsaakashvili/Desktop/UU/Thesis/code/es-thesis-repo/data/visualizations_for_paper/investigation_clip_scores.ipynb#X11sZmlsZQ%3D%3D?line=2'>3</a>\u001b[0m new_clip_stimuli_scores\u001b[39m.\u001b[39mfilename\n",
      "\u001b[1;32m/Users/eduardsaakashvili/Desktop/UU/Thesis/code/es-thesis-repo/data/visualizations_for_paper/investigation_clip_scores.ipynb Cell 9\u001b[0m line \u001b[0;36m1\n\u001b[0;32m----> <a href='vscode-notebook-cell:/Users/eduardsaakashvili/Desktop/UU/Thesis/code/es-thesis-repo/data/visualizations_for_paper/investigation_clip_scores.ipynb#X11sZmlsZQ%3D%3D?line=0'>1</a>\u001b[0m new_clip_stimuli_scores[\u001b[39m'\u001b[39m\u001b[39mfilename\u001b[39m\u001b[39m'\u001b[39m] \u001b[39m=\u001b[39m [os\u001b[39m.\u001b[39mpath\u001b[39m.\u001b[39mbasename(path) \u001b[39mfor\u001b[39;00m path \u001b[39min\u001b[39;00m new_clip_stimuli_scores[\u001b[39m'\u001b[39m\u001b[39mimg_path\u001b[39m\u001b[39m'\u001b[39m]]\n\u001b[1;32m      <a href='vscode-notebook-cell:/Users/eduardsaakashvili/Desktop/UU/Thesis/code/es-thesis-repo/data/visualizations_for_paper/investigation_clip_scores.ipynb#X11sZmlsZQ%3D%3D?line=1'>2</a>\u001b[0m new_clip_stimuli_scores \u001b[39m=\u001b[39m new_clip_stimuli_scores\u001b[39m.\u001b[39msort_values(by\u001b[39m=\u001b[39m[\u001b[39m'\u001b[39m\u001b[39mfilename\u001b[39m\u001b[39m'\u001b[39m])\n\u001b[1;32m      <a href='vscode-notebook-cell:/Users/eduardsaakashvili/Desktop/UU/Thesis/code/es-thesis-repo/data/visualizations_for_paper/investigation_clip_scores.ipynb#X11sZmlsZQ%3D%3D?line=2'>3</a>\u001b[0m new_clip_stimuli_scores\u001b[39m.\u001b[39mfilename\n",
      "\u001b[0;31mNameError\u001b[0m: name 'os' is not defined"
     ]
    }
   ],
   "source": [
    "new_clip_stimuli_scores['filename'] = [os.path.basename(path) for path in new_clip_stimuli_scores['img_path']]\n",
    "new_clip_stimuli_scores = new_clip_stimuli_scores.sort_values(by=['filename'])\n",
    "new_clip_stimuli_scores.filename"
   ]
  },
  {
   "cell_type": "markdown",
   "metadata": {},
   "source": [
    "Check the filenames are exactly in the same order, should be 1.0"
   ]
  },
  {
   "cell_type": "code",
   "execution_count": null,
   "metadata": {},
   "outputs": [
    {
     "data": {
      "text/plain": [
       "1.0"
      ]
     },
     "execution_count": 55,
     "metadata": {},
     "output_type": "execute_result"
    }
   ],
   "source": [
    "import numpy as np\n",
    "np.mean(stimuli_df.filename == new_clip_stimuli_scores.filename) # they are all equal"
   ]
  },
  {
   "cell_type": "markdown",
   "metadata": {},
   "source": [
    "Add the old scores to the new scores dataframe"
   ]
  },
  {
   "cell_type": "code",
   "execution_count": null,
   "metadata": {},
   "outputs": [],
   "source": [
    "new_clip_stimuli_scores['old_clip_caption'] = stimuli_df['clip_pred_caption']\n",
    "new_clip_stimuli_scores['old_clip_foil'] = stimuli_df['clip_pred_foil']\n",
    "new_clip_stimuli_scores['old_clip_diff'] = stimuli_df['clip_pred_diff']"
   ]
  },
  {
   "cell_type": "markdown",
   "metadata": {},
   "source": [
    "Graph"
   ]
  },
  {
   "cell_type": "code",
   "execution_count": null,
   "metadata": {},
   "outputs": [
    {
     "data": {
      "text/plain": [
       "<matplotlib.collections.PathCollection at 0x147818a30>"
      ]
     },
     "execution_count": 57,
     "metadata": {},
     "output_type": "execute_result"
    },
    {
     "data": {
      "image/png": "[encoded data removed]",
      "text/plain": [
       "<Figure size 640x480 with 1 Axes>"
      ]
     },
     "metadata": {},
     "output_type": "display_data"
    }
   ],
   "source": [
    "import matplotlib.pyplot as plt\n",
    "plt.scatter(new_clip_stimuli_scores['old_clip_diff'], new_clip_stimuli_scores['model_pred_diff'])\n"
   ]
  },
  {
   "cell_type": "markdown",
   "metadata": {},
   "source": [
    "### This is good news. Now let's see if our dataset is still overall balanced"
   ]
  },
  {
   "cell_type": "code",
   "execution_count": null,
   "metadata": {},
   "outputs": [
    {
     "data": {
      "text/plain": [
       "linguistic_phenomena      \n",
       "actions               0.33    0.330514\n",
       "                      0.66    1.850014\n",
       "existence             0.33    0.069525\n",
       "                      0.66    0.924227\n",
       "relations             0.33   -0.011719\n",
       "                      0.66    0.497886\n",
       "Name: model_pred_diff, dtype: float64"
      ]
     },
     "execution_count": 58,
     "metadata": {},
     "output_type": "execute_result"
    }
   ],
   "source": [
    "thresholds = new_clip_valse_scores.groupby('linguistic_phenomena')['model_pred_diff'].quantile([0.33, 0.66])\n",
    "thresholds = thresholds\n",
    "thresholds"
   ]
  },
  {
   "cell_type": "code",
   "execution_count": null,
   "metadata": {},
   "outputs": [],
   "source": [
    "def categorize_performance(row, low_percentile = 0.33, high_percentile = 0.66):\n",
    "    \"\"\"For a row from the dataframe, assign low/medium/high performance \n",
    "    based on comparing the clip_pred_diff to the thresholds for that linguistic phenomena\"\"\"\n",
    "\n",
    "    if row['model_pred_diff'] <= thresholds[row['linguistic_phenomena']][low_percentile]:\n",
    "        return \"low_perf\"\n",
    "    elif row['model_pred_diff']<=thresholds[row['linguistic_phenomena']][high_percentile]:\n",
    "        return \"medium_perf\"\n",
    "    else:\n",
    "        return \"high_perf\"\n",
    "    \n",
    "new_clip_stimuli_scores['performance_group'] = [categorize_performance(row) for _, row in new_clip_stimuli_scores.iterrows()]\n"
   ]
  },
  {
   "cell_type": "code",
   "execution_count": null,
   "metadata": {},
   "outputs": [
    {
     "data": {
      "text/plain": [
       "linguistic_phenomena  performance_group\n",
       "actions               high_perf            12\n",
       "                      low_perf             12\n",
       "                      medium_perf           9\n",
       "existence             high_perf            11\n",
       "                      low_perf              9\n",
       "                      medium_perf          13\n",
       "relations             high_perf            12\n",
       "                      low_perf             12\n",
       "                      medium_perf           9\n",
       "dtype: int64"
      ]
     },
     "execution_count": 60,
     "metadata": {},
     "output_type": "execute_result"
    }
   ],
   "source": [
    "new_clip_stimuli_scores.groupby(['linguistic_phenomena', 'performance_group']).size()"
   ]
  },
  {
   "cell_type": "code",
   "execution_count": null,
   "metadata": {},
   "outputs": [],
   "source": []
  }
 ],
 "metadata": {
  "kernelspec": {
   "display_name": "Python 3",
   "language": "python",
   "name": "python3"
  },
  "language_info": {
   "codemirror_mode": {
    "name": "ipython",
    "version": 3
   },
   "file_extension": ".py",
   "mimetype": "text/x-python",
   "name": "python",
   "nbconvert_exporter": "python",
   "pygments_lexer": "ipython3",
   "version": "3.10.0"
  }
 },
 "nbformat": 4,
 "nbformat_minor": 2
}

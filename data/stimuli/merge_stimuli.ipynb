{
 "cells": [
  {
   "cell_type": "code",
   "execution_count": 1,
   "metadata": {},
   "outputs": [],
   "source": [
    "import pandas as pd\n",
    "import os\n",
    "\n",
    "stim_paths = [ f\"../../data_prep/final_stimuli/stimuli_{i}_fixed_clip_values.pickle\" for i in [1,2,3]]\n",
    "stimuli_df = pd.concat([pd.read_pickle(path) for path in stim_paths]).reset_index()\n",
    "stimuli_df['filename'] = [os.path.basename(path) for path in stimuli_df['img_path']]\n",
    "\n",
    "stimuli_df.to_pickle(\"all_stimuli_with_initial_clip_score.pickle\")"
   ]
  },
  {
   "cell_type": "code",
   "execution_count": null,
   "metadata": {},
   "outputs": [],
   "source": []
  }
 ],
 "metadata": {
  "kernelspec": {
   "display_name": "Python 3",
   "language": "python",
   "name": "python3"
  },
  "language_info": {
   "codemirror_mode": {
    "name": "ipython",
    "version": 3
   },
   "file_extension": ".py",
   "mimetype": "text/x-python",
   "name": "python",
   "nbconvert_exporter": "python",
   "pygments_lexer": "ipython3",
   "version": "3.10.0"
  }
 },
 "nbformat": 4,
 "nbformat_minor": 2
}

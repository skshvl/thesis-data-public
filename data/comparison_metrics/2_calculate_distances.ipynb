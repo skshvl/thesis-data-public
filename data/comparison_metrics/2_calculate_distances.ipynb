{
 "cells": [
  {
   "cell_type": "markdown",
   "metadata": {},
   "source": [
    "## Load XAI maps and human maps"
   ]
  },
  {
   "cell_type": "code",
   "execution_count": 334,
   "metadata": {},
   "outputs": [
    {
     "data": {
      "text/html": [
       "<div>\n",
       "<style scoped>\n",
       "    .dataframe tbody tr th:only-of-type {\n",
       "        vertical-align: middle;\n",
       "    }\n",
       "\n",
       "    .dataframe tbody tr th {\n",
       "        vertical-align: top;\n",
       "    }\n",
       "\n",
       "    .dataframe thead th {\n",
       "        text-align: right;\n",
       "    }\n",
       "</style>\n",
       "<table border=\"1\" class=\"dataframe\">\n",
       "  <thead>\n",
       "    <tr style=\"text-align: right;\">\n",
       "      <th></th>\n",
       "      <th>filename</th>\n",
       "      <th>index</th>\n",
       "      <th>img_path</th>\n",
       "      <th>caption</th>\n",
       "      <th>foil</th>\n",
       "      <th>linguistic_phenomena</th>\n",
       "      <th>model_shap_map</th>\n",
       "      <th>n_image_variants</th>\n",
       "      <th>model</th>\n",
       "      <th>model_shap_positive_normalized</th>\n",
       "    </tr>\n",
       "  </thead>\n",
       "  <tbody>\n",
       "    <tr>\n",
       "      <th>1</th>\n",
       "      <td>licking_291.jpg</td>\n",
       "      <td>1</td>\n",
       "      <td>../../VALSE_data/images/swig/licking_291.jpg</td>\n",
       "      <td>A cow licks its fur.</td>\n",
       "      <td>A cow wrinkles its fur.</td>\n",
       "      <td>actions</td>\n",
       "      <td>[[-0.055763863715583284, 0.022721240122336894,...</td>\n",
       "      <td>172</td>\n",
       "      <td>LXMERT</td>\n",
       "      <td>[[0.07359886674465907, 0.02998819329604594, 0....</td>\n",
       "    </tr>\n",
       "  </tbody>\n",
       "</table>\n",
       "</div>"
      ],
      "text/plain": [
       "          filename  index                                      img_path  \\\n",
       "1  licking_291.jpg      1  ../../VALSE_data/images/swig/licking_291.jpg   \n",
       "\n",
       "                caption                     foil linguistic_phenomena  \\\n",
       "1  A cow licks its fur.  A cow wrinkles its fur.              actions   \n",
       "\n",
       "                                      model_shap_map  n_image_variants  \\\n",
       "1  [[-0.055763863715583284, 0.022721240122336894,...               172   \n",
       "\n",
       "    model                     model_shap_positive_normalized  \n",
       "1  LXMERT  [[0.07359886674465907, 0.02998819329604594, 0....  "
      ]
     },
     "execution_count": 334,
     "metadata": {},
     "output_type": "execute_result"
    }
   ],
   "source": [
    "import pandas as pd\n",
    "import os\n",
    "\n",
    "xai_df = pd.read_pickle(\"1_all_xai_maps.pickle\").reset_index()\n",
    "human_df = pd.read_pickle(\"../human_attribution_maps/3_combined_masks.pickle\")\n",
    "\n",
    "# add filename column to xai df\n",
    "xai_df['filename'] = [os.path.basename(path) for path in xai_df['img_path']]\n",
    "\n",
    "# only keep XAI maps where human one is available\n",
    "xai_df = xai_df[xai_df['filename'].isin(list(human_df['filename']))]\n",
    "\n",
    "xai_df = xai_df[ ['filename'] + [ col for col in xai_df.columns if col != 'filename' ] ] # rearrange columns\n",
    "xai_df.head(1)\n"
   ]
  },
  {
   "cell_type": "markdown",
   "metadata": {},
   "source": [
    "### Import function: retrieve downsampled human map by filename"
   ]
  },
  {
   "cell_type": "code",
   "execution_count": 335,
   "metadata": {},
   "outputs": [
    {
     "data": {
      "text/html": [
       "<div>\n",
       "<style scoped>\n",
       "    .dataframe tbody tr th:only-of-type {\n",
       "        vertical-align: middle;\n",
       "    }\n",
       "\n",
       "    .dataframe tbody tr th {\n",
       "        vertical-align: top;\n",
       "    }\n",
       "\n",
       "    .dataframe thead th {\n",
       "        text-align: right;\n",
       "    }\n",
       "</style>\n",
       "<table border=\"1\" class=\"dataframe\">\n",
       "  <thead>\n",
       "    <tr style=\"text-align: right;\">\n",
       "      <th></th>\n",
       "      <th>filename</th>\n",
       "      <th>img_path</th>\n",
       "      <th>mask_normalized</th>\n",
       "      <th>caption</th>\n",
       "      <th>foil</th>\n",
       "      <th>nr_clicks</th>\n",
       "      <th>linguistic_phenomena</th>\n",
       "      <th>points_clicked</th>\n",
       "      <th>total_clicks</th>\n",
       "      <th>mask_normalized_downsampled</th>\n",
       "    </tr>\n",
       "  </thead>\n",
       "  <tbody>\n",
       "    <tr>\n",
       "      <th>0</th>\n",
       "      <td>000000001584.jpg</td>\n",
       "      <td>../VALSE_data/images/coco2017/000000001584.jpg</td>\n",
       "      <td>[[0.0, 0.0, 0.0, 0.0, 0.0, 0.0, 0.0, 0.0, 0.0,...</td>\n",
       "      <td>The red, double decker bus is driving past oth...</td>\n",
       "      <td>The red, double decker bus is driving towards ...</td>\n",
       "      <td>[4, 2, 2]</td>\n",
       "      <td>relations</td>\n",
       "      <td>[(100, 204), (344, 270), (52, 228), (392, 227)...</td>\n",
       "      <td>8</td>\n",
       "      <td>[[0.0, 0.0, 0.0, 0.0], [0.041735509019357464, ...</td>\n",
       "    </tr>\n",
       "  </tbody>\n",
       "</table>\n",
       "</div>"
      ],
      "text/plain": [
       "           filename                                        img_path  \\\n",
       "0  000000001584.jpg  ../VALSE_data/images/coco2017/000000001584.jpg   \n",
       "\n",
       "                                     mask_normalized  \\\n",
       "0  [[0.0, 0.0, 0.0, 0.0, 0.0, 0.0, 0.0, 0.0, 0.0,...   \n",
       "\n",
       "                                             caption  \\\n",
       "0  The red, double decker bus is driving past oth...   \n",
       "\n",
       "                                                foil  nr_clicks  \\\n",
       "0  The red, double decker bus is driving towards ...  [4, 2, 2]   \n",
       "\n",
       "  linguistic_phenomena                                     points_clicked  \\\n",
       "0            relations  [(100, 204), (344, 270), (52, 228), (392, 227)...   \n",
       "\n",
       "   total_clicks                        mask_normalized_downsampled  \n",
       "0             8  [[0.0, 0.0, 0.0, 0.0], [0.041735509019357464, ...  "
      ]
     },
     "execution_count": 335,
     "metadata": {},
     "output_type": "execute_result"
    }
   ],
   "source": [
    "#look at dataframe\n",
    "human_df.head(1)"
   ]
  },
  {
   "cell_type": "markdown",
   "metadata": {},
   "source": [
    "### Add human maps to XAI DF"
   ]
  },
  {
   "cell_type": "code",
   "execution_count": 336,
   "metadata": {},
   "outputs": [],
   "source": [
    "from utils import get_human_map_for_filename\n",
    "\n",
    "human_map_for_row = []\n",
    "for filename in xai_df['filename']:\n",
    "    human_map = get_human_map_for_filename(filename)\n",
    "    human_map_for_row.append(human_map)\n",
    "xai_df['human_map'] = human_map_for_row\n",
    "\n",
    "xai_df.to_pickle('1_all_xai_maps_with_human.pickle')"
   ]
  },
  {
   "cell_type": "markdown",
   "metadata": {},
   "source": [
    "## Define functions: comparison metrics"
   ]
  },
  {
   "cell_type": "code",
   "execution_count": 337,
   "metadata": {},
   "outputs": [
    {
     "name": "stdout",
     "output_type": "stream",
     "text": [
      "Requirement already satisfied: POT in /Library/Frameworks/Python.framework/Versions/3.10/lib/python3.10/site-packages (0.9.3)\n",
      "Requirement already satisfied: numpy>=1.16 in /Library/Frameworks/Python.framework/Versions/3.10/lib/python3.10/site-packages (from POT) (1.24.4)\n",
      "Requirement already satisfied: scipy>=1.6 in /Library/Frameworks/Python.framework/Versions/3.10/lib/python3.10/site-packages (from POT) (1.11.1)\n",
      "\u001b[33mWARNING: You are using pip version 21.2.3; however, version 24.0 is available.\n",
      "You should consider upgrading via the '/Library/Frameworks/Python.framework/Versions/3.10/bin/python3.10 -m pip install --upgrade pip' command.\u001b[0m\n"
     ]
    }
   ],
   "source": [
    "!pip3 install POT\n",
    "import ot\n",
    "import numpy as np"
   ]
  },
  {
   "cell_type": "markdown",
   "metadata": {},
   "source": [
    "### Define function to keep only top n SHAP cells (unused)\n",
    "\n",
    "This is to facilitate making SHAPs more comparable to human maps"
   ]
  },
  {
   "cell_type": "code",
   "execution_count": 338,
   "metadata": {},
   "outputs": [],
   "source": [
    "def keep_only_top_shap_patches(shap_map, n=6):\n",
    "    \"\"\"Set all but top n elements of 4x4 array to 0\n",
    "    then normalize (renormalize)\"\"\"\n",
    "\n",
    "    flat_array = shap_map.flatten()\n",
    "    indices = np.argsort(shap_map)\n",
    "    # set all but top n to 0\n",
    "    flat_array[indices[:-n]] = 0\n",
    "    # renormalize\n",
    "\n",
    "    flat_array /= flat_array.sum()\n",
    "    # shape back to 4x4 and return this\n",
    "    return flat_array.reshape(4, 4)\n"
   ]
  },
  {
   "cell_type": "markdown",
   "metadata": {},
   "source": [
    "### Define EMD"
   ]
  },
  {
   "cell_type": "markdown",
   "metadata": {},
   "source": [
    "Create Euclidian distance matrix to calculate EMD\n",
    "We will FLATTEN the 2d matrices but this will preserve distance information\n",
    "\n",
    "These will be the positions of each element in the flattened arrays (checks out):\n",
    "\n"
   ]
  },
  {
   "cell_type": "code",
   "execution_count": 339,
   "metadata": {},
   "outputs": [
    {
     "name": "stdout",
     "output_type": "stream",
     "text": [
      "[[0, 0], [0, 1], [0, 2], [0, 3], [1, 0], [1, 1], [1, 2], [1, 3], [2, 0], [2, 1], [2, 2], [2, 3], [3, 0], [3, 1], [3, 2], [3, 3]]\n"
     ]
    }
   ],
   "source": [
    "X, Y = np.meshgrid(np.arange(4), np.arange(4))\n",
    "positions = np.vstack([Y.ravel(), X.ravel()]).T\n",
    "print([list(position) for position in positions])"
   ]
  },
  {
   "cell_type": "markdown",
   "metadata": {},
   "source": [
    "E.g. 0,0 becomes element 0, (1,1) becomes element 5. \n",
    "\n",
    "Calculate distances. Distance between 0,0 and 1,1 should be sqrt(1^2 + 1^2) i.e. sqrt(1). Indeed cost_matrix[0,5] is equal to that"
   ]
  },
  {
   "cell_type": "code",
   "execution_count": 340,
   "metadata": {},
   "outputs": [
    {
     "data": {
      "text/plain": [
       "1.4142135623730951"
      ]
     },
     "execution_count": 340,
     "metadata": {},
     "output_type": "execute_result"
    }
   ],
   "source": [
    "cost_matrix = ot.dist(positions, positions, metric='euclidean')\n",
    "cost_matrix[0,5]"
   ]
  },
  {
   "cell_type": "code",
   "execution_count": 341,
   "metadata": {},
   "outputs": [],
   "source": [
    "def EMD(map1, map2):\n",
    "    \"\"\"Calculate 2-dimensional EMD between\n",
    "    two 4x4 numpy arrays.\"\"\"\n",
    "\n",
    "    # This approach will flatten the arrays, but also use an elementwise distance matrix to preserve information about location\n",
    "    map1_flattened, map2_flattened = map1.ravel(), map2.ravel()\n",
    "\n",
    "    # if replace values with rank\n",
    "\n",
    "    emd_distance = ot.emd2(map1_flattened, map2_flattened, cost_matrix)\n",
    "\n",
    "    return emd_distance"
   ]
  },
  {
   "cell_type": "code",
   "execution_count": 342,
   "metadata": {},
   "outputs": [],
   "source": [
    "def scramble_map(array_2d):\n",
    "    \"\"\"Scramble the elements of a 4x4 array\n",
    "    \n",
    "    Useful for baseline comparison\"\"\"\n",
    "\n",
    "    flat_array = array_2d.flatten()  #  2D array to 1D array\n",
    "    np.random.shuffle(flat_array)  # shuffle the 1D array in-place\n",
    "    shuffled = flat_array.reshape((4,4))\n",
    "    return shuffled"
   ]
  },
  {
   "cell_type": "markdown",
   "metadata": {},
   "source": [
    "Test EMD:"
   ]
  },
  {
   "cell_type": "code",
   "execution_count": 343,
   "metadata": {},
   "outputs": [
    {
     "data": {
      "text/plain": [
       "0.5229774728003149"
      ]
     },
     "execution_count": 343,
     "metadata": {},
     "output_type": "execute_result"
    }
   ],
   "source": [
    "idx = 7\n",
    "xai_map = xai_df['model_shap_positive_normalized'][idx]\n",
    "filename = xai_df['filename'][idx]\n",
    "human_map = get_human_map_for_filename(filename)\n",
    "EMD(xai_map, human_map)"
   ]
  },
  {
   "cell_type": "markdown",
   "metadata": {},
   "source": [
    "### Define rank correlation"
   ]
  },
  {
   "cell_type": "code",
   "execution_count": 344,
   "metadata": {},
   "outputs": [],
   "source": [
    "import numpy as np\n",
    "from scipy.stats import spearmanr\n",
    "\n",
    "def rank_correlation(map1, map2, verbose = False):\n",
    "    flat1, flat2 = map1.ravel(), map2.ravel()\n",
    "    if verbose:\n",
    "        print(\"Flattened maps:\")\n",
    "        print(flat1)\n",
    "        print(flat2)\n",
    "    correlation, p = spearmanr(flat1, flat2)\n",
    "    return correlation, p"
   ]
  },
  {
   "cell_type": "code",
   "execution_count": 345,
   "metadata": {},
   "outputs": [
    {
     "name": "stdout",
     "output_type": "stream",
     "text": [
      "Flattened maps:\n",
      "[0.02274561 0.00081273 0.16827043 0.10578211 0.07308034 0.07541956\n",
      " 0.03931807 0.02426055 0.00672422 0.04868677 0.08948553 0.1950906\n",
      " 0.04415409 0.04023031 0.03920289 0.02673618]\n",
      "[0.01159899 0.03892892 0.02800965 0.01833805 0.0491413  0.11411621\n",
      " 0.13081067 0.12122488 0.05475923 0.12743874 0.12654352 0.08700085\n",
      " 0.01944582 0.03701771 0.02538835 0.01023711]\n"
     ]
    },
    {
     "data": {
      "text/plain": [
       "(0.15294117647058825, 0.5717446192454616)"
      ]
     },
     "execution_count": 345,
     "metadata": {},
     "output_type": "execute_result"
    }
   ],
   "source": [
    "rank_correlation(xai_map, human_map, verbose = True)"
   ]
  },
  {
   "cell_type": "markdown",
   "metadata": {},
   "source": [
    "Here we prove that after transposing both the RC does not change"
   ]
  },
  {
   "cell_type": "code",
   "execution_count": 346,
   "metadata": {},
   "outputs": [
    {
     "data": {
      "text/plain": [
       "True"
      ]
     },
     "execution_count": 346,
     "metadata": {},
     "output_type": "execute_result"
    }
   ],
   "source": [
    "# with transposed\n",
    "rank_correlation(xai_map.T, human_map.T) == rank_correlation(xai_map, human_map)"
   ]
  },
  {
   "cell_type": "markdown",
   "metadata": {},
   "source": [
    "### Define Chi Squared"
   ]
  },
  {
   "cell_type": "code",
   "execution_count": 347,
   "metadata": {},
   "outputs": [
    {
     "data": {
      "text/plain": [
       "3.185299998919225"
      ]
     },
     "execution_count": 347,
     "metadata": {},
     "output_type": "execute_result"
    }
   ],
   "source": [
    "from scipy.stats import chisquare\n",
    "\n",
    "def chi_square(xai_map, human_map):\n",
    "    xai_flat, human_flat = xai_map.ravel(), human_map.ravel()\n",
    "    chi2, p = chisquare(xai_flat, human_flat)\n",
    "    return chi2\n",
    "\n",
    "chi_square(human_map, xai_map)\n",
    "    "
   ]
  },
  {
   "cell_type": "markdown",
   "metadata": {},
   "source": [
    "### Define Kullback-Leibler Divergence (relative entropy)"
   ]
  },
  {
   "cell_type": "code",
   "execution_count": 348,
   "metadata": {},
   "outputs": [
    {
     "data": {
      "text/plain": [
       "0.5585763700954596"
      ]
     },
     "execution_count": 348,
     "metadata": {},
     "output_type": "execute_result"
    }
   ],
   "source": [
    "from scipy.stats import entropy\n",
    "\n",
    "def kld(xai_map, human_map):\n",
    "    \"\"\"Kullback-Leibler Divergence for flattend probability distributions\"\"\"\n",
    "    xai_flat, human_flat = xai_map.ravel(), human_map.ravel() #these should already be normalized\n",
    "    kld = entropy(xai_flat, human_flat)\n",
    "    return kld\n",
    "\n",
    "kld(xai_map.T, human_map.T)"
   ]
  },
  {
   "cell_type": "markdown",
   "metadata": {},
   "source": [
    "This is *unsuitable* because it goes to infinity"
   ]
  },
  {
   "cell_type": "markdown",
   "metadata": {},
   "source": [
    "# Calculate metrics for each XAI map"
   ]
  },
  {
   "cell_type": "markdown",
   "metadata": {},
   "source": [
    "- shuffled = whole list of human maps is shuffled, each map is kept intact\n",
    "- scrambled = each map is kept in place but scrambled, its actual elements are shuffled around"
   ]
  },
  {
   "cell_type": "code",
   "execution_count": 349,
   "metadata": {},
   "outputs": [],
   "source": [
    "xai_df['shuffled_column_human_map'] = np.random.shuffle(list(xai_df['human_map']))\n"
   ]
  },
  {
   "cell_type": "code",
   "execution_count": 350,
   "metadata": {},
   "outputs": [],
   "source": [
    "np.random.shuffle(list(xai_df['human_map']))"
   ]
  },
  {
   "cell_type": "code",
   "execution_count": 351,
   "metadata": {},
   "outputs": [],
   "source": [
    "from collections import defaultdict\n",
    "\n",
    "# shuffle column of human maps\n",
    "shuffled_order_human_maps = np.array(list(xai_df['human_map']))\n",
    "np.random.shuffle(shuffled_order_human_maps)\n",
    "# create shuffled human map column which just SHUFFLES all the human maps while keeping each map intact\n",
    "\n",
    "xai_df['shuffled_column_human_map'] = list(shuffled_order_human_maps)\n",
    "\n",
    "output_dict = defaultdict(list)\n",
    "# define baseline normalized FLAT array containing no information (for comparison)\n",
    "# flat_array = np.full((4,4),1/16)\n",
    "\n",
    "# loop through dataframe of XAI maps and calculate distance metrics for each\n",
    "for _, row in xai_df.iterrows():\n",
    "    filename = row['filename']\n",
    "    xai_map_unnormalized = row['model_shap_map']\n",
    "\n",
    "    xai_map = row['model_shap_positive_normalized']\n",
    "    human_map = row['human_map']\n",
    "    scrambled_human = scramble_map(human_map)\n",
    "    human_map_after_shuffle = row['shuffled_column_human_map']\n",
    "\n",
    "    try:\n",
    "        # calcualte and append two distance metrics\n",
    "        output_dict['EMD_to_human'].append(EMD(xai_map, human_map)) #distance to human\n",
    "        output_dict['RC_to_human'].append(rank_correlation(xai_map, human_map)[0])\n",
    "\n",
    "        # calculate distance to SCRAMBLED human map\n",
    "        output_dict['EMD_to_scrambled_human'].append(EMD(xai_map, scrambled_human)) #distance to flat distribution baseline\n",
    "        output_dict['RC_to_scrambled_human'].append(rank_correlation(xai_map, scrambled_human)[0])\n",
    "\n",
    "\n",
    "        # calcualte distance to random OTHER human map after order of human maps shuffled in shuffled column\n",
    "        \n",
    "        output_dict['EMD_to_shuffled_column_human'].append(EMD(xai_map, human_map_after_shuffle))\n",
    "        output_dict['RC_to_shuffled_column_human'].append(rank_correlation(xai_map, human_map_after_shuffle)[0])\n",
    "\n",
    "\n",
    "\n",
    "\n",
    "    except Exception as e:\n",
    "        print(f\"Could not compare to human map for {filename}, {e}\")\n",
    "\n",
    "# add each list in the dictionary to the datarame\n",
    "for column_name, column in output_dict.items():\n",
    "    xai_df[column_name] = column\n",
    "\n",
    "\n"
   ]
  },
  {
   "cell_type": "code",
   "execution_count": 352,
   "metadata": {},
   "outputs": [
    {
     "data": {
      "text/html": [
       "<div>\n",
       "<style scoped>\n",
       "    .dataframe tbody tr th:only-of-type {\n",
       "        vertical-align: middle;\n",
       "    }\n",
       "\n",
       "    .dataframe tbody tr th {\n",
       "        vertical-align: top;\n",
       "    }\n",
       "\n",
       "    .dataframe thead th {\n",
       "        text-align: right;\n",
       "    }\n",
       "</style>\n",
       "<table border=\"1\" class=\"dataframe\">\n",
       "  <thead>\n",
       "    <tr style=\"text-align: right;\">\n",
       "      <th></th>\n",
       "      <th>filename</th>\n",
       "      <th>index</th>\n",
       "      <th>img_path</th>\n",
       "      <th>caption</th>\n",
       "      <th>foil</th>\n",
       "      <th>linguistic_phenomena</th>\n",
       "      <th>model_shap_map</th>\n",
       "      <th>n_image_variants</th>\n",
       "      <th>model</th>\n",
       "      <th>model_shap_positive_normalized</th>\n",
       "      <th>human_map</th>\n",
       "      <th>shuffled_column_human_map</th>\n",
       "      <th>EMD_to_human</th>\n",
       "      <th>RC_to_human</th>\n",
       "      <th>EMD_to_scrambled_human</th>\n",
       "      <th>RC_to_scrambled_human</th>\n",
       "      <th>EMD_to_shuffled_column_human</th>\n",
       "      <th>RC_to_shuffled_column_human</th>\n",
       "    </tr>\n",
       "  </thead>\n",
       "  <tbody>\n",
       "    <tr>\n",
       "      <th>1</th>\n",
       "      <td>licking_291.jpg</td>\n",
       "      <td>1</td>\n",
       "      <td>../../VALSE_data/images/swig/licking_291.jpg</td>\n",
       "      <td>A cow licks its fur.</td>\n",
       "      <td>A cow wrinkles its fur.</td>\n",
       "      <td>actions</td>\n",
       "      <td>[[-0.055763863715583284, 0.022721240122336894,...</td>\n",
       "      <td>172</td>\n",
       "      <td>LXMERT</td>\n",
       "      <td>[[0.07359886674465907, 0.02998819329604594, 0....</td>\n",
       "      <td>[[0.0014743265527438847, 0.01573516504970489, ...</td>\n",
       "      <td>[[0.002197957601655422, 0.014077928917412092, ...</td>\n",
       "      <td>0.983263</td>\n",
       "      <td>-0.058824</td>\n",
       "      <td>0.72668</td>\n",
       "      <td>0.388235</td>\n",
       "      <td>0.616612</td>\n",
       "      <td>0.391176</td>\n",
       "    </tr>\n",
       "  </tbody>\n",
       "</table>\n",
       "</div>"
      ],
      "text/plain": [
       "          filename  index                                      img_path  \\\n",
       "1  licking_291.jpg      1  ../../VALSE_data/images/swig/licking_291.jpg   \n",
       "\n",
       "                caption                     foil linguistic_phenomena  \\\n",
       "1  A cow licks its fur.  A cow wrinkles its fur.              actions   \n",
       "\n",
       "                                      model_shap_map  n_image_variants  \\\n",
       "1  [[-0.055763863715583284, 0.022721240122336894,...               172   \n",
       "\n",
       "    model                     model_shap_positive_normalized  \\\n",
       "1  LXMERT  [[0.07359886674465907, 0.02998819329604594, 0....   \n",
       "\n",
       "                                           human_map  \\\n",
       "1  [[0.0014743265527438847, 0.01573516504970489, ...   \n",
       "\n",
       "                           shuffled_column_human_map  EMD_to_human  \\\n",
       "1  [[0.002197957601655422, 0.014077928917412092, ...      0.983263   \n",
       "\n",
       "   RC_to_human  EMD_to_scrambled_human  RC_to_scrambled_human  \\\n",
       "1    -0.058824                 0.72668               0.388235   \n",
       "\n",
       "   EMD_to_shuffled_column_human  RC_to_shuffled_column_human  \n",
       "1                      0.616612                     0.391176  "
      ]
     },
     "execution_count": 352,
     "metadata": {},
     "output_type": "execute_result"
    }
   ],
   "source": [
    "xai_df.head(1)"
   ]
  },
  {
   "cell_type": "markdown",
   "metadata": {},
   "source": [
    "# Export"
   ]
  },
  {
   "cell_type": "code",
   "execution_count": 353,
   "metadata": {},
   "outputs": [],
   "source": [
    "xai_df.to_pickle(\"2_xai_with_distances.pickle\")"
   ]
  },
  {
   "cell_type": "markdown",
   "metadata": {},
   "source": [
    "# Investigate why EMD might be a bad metric"
   ]
  },
  {
   "cell_type": "markdown",
   "metadata": {},
   "source": [
    "### Average histogram for CLIP SHAP maps"
   ]
  },
  {
   "cell_type": "code",
   "execution_count": null,
   "metadata": {},
   "outputs": [],
   "source": []
  },
  {
   "cell_type": "code",
   "execution_count": 354,
   "metadata": {},
   "outputs": [
    {
     "data": {
      "image/png": "[encoded data removed]",
      "text/plain": [
       "<Figure size 1000x600 with 1 Axes>"
      ]
     },
     "metadata": {},
     "output_type": "display_data"
    }
   ],
   "source": [
    "import numpy as np\n",
    "import matplotlib.pyplot as plt\n",
    "\n",
    "def avg_mask_histogram(column, title):\n",
    "    \"\"\"Average value distribution for all 2d masks in column\"\"\"\n",
    "\n",
    "    num_bins = 15\n",
    "    sum_histogram = np.zeros(num_bins)\n",
    "\n",
    "    for mask in column:\n",
    "        hist, _ = np.histogram(mask, bins=num_bins, range=[0, 0.5])  # adjust range as needed\n",
    "        # sum histograms\n",
    "        sum_histogram += hist\n",
    "\n",
    "    # Compute the average histogram\n",
    "    average_histogram = sum_histogram / len(column)\n",
    "\n",
    "    bin_edges = np.linspace(0, 1, len(average_histogram) + 1)  # Adjust 0, 1 to your range\n",
    "\n",
    "    # Plotting the histogram\n",
    "    plt.figure(figsize=[10,6])  # Optional: Adjust figure size\n",
    "    plt.bar(bin_edges[:-1], average_histogram, width=np.diff(bin_edges), edgecolor='black')\n",
    "    plt.xlabel('Value')  # Adjust as per your histogram variable\n",
    "    plt.ylabel('Nr of patches')  # Adjust label as necessary\n",
    "    plt.ylim(0,10)\n",
    "    plt.title(title)  # Adjust title as necessary\n",
    "    plt.show()\n",
    "    return average_histogram\n",
    "\n",
    "        \n",
    "\n",
    "xai_hist = avg_mask_histogram(xai_df['model_shap_positive_normalized'], \"Average histogram for SHAP\")"
   ]
  },
  {
   "cell_type": "code",
   "execution_count": 355,
   "metadata": {},
   "outputs": [
    {
     "data": {
      "image/png": "[encoded data removed]",
      "text/plain": [
       "<Figure size 1000x600 with 1 Axes>"
      ]
     },
     "metadata": {},
     "output_type": "display_data"
    }
   ],
   "source": [
    "human_hist = avg_mask_histogram(human_df['mask_normalized_downsampled'], \"Average histogram for human maps\")"
   ]
  },
  {
   "cell_type": "code",
   "execution_count": null,
   "metadata": {},
   "outputs": [],
   "source": []
  },
  {
   "cell_type": "markdown",
   "metadata": {},
   "source": [
    "### Do CLIP and FLAVA correlate?"
   ]
  },
  {
   "cell_type": "code",
   "execution_count": 356,
   "metadata": {},
   "outputs": [],
   "source": [
    "clip_xai = xai_df[xai_df['model']=='CLIP'].sort_values(by='filename')\n",
    "flava_xai = xai_df[xai_df['model']=='FLAVA'].sort_values(by='filename')\n"
   ]
  },
  {
   "cell_type": "code",
   "execution_count": 357,
   "metadata": {},
   "outputs": [],
   "source": [
    "rank_correlations = [rank_correlation(clip_map, flava_map)[0] for clip_map, flava_map in zip(list(clip_xai['model_shap_positive_normalized']), list(flava_xai['model_shap_positive_normalized']))]"
   ]
  },
  {
   "cell_type": "code",
   "execution_count": 358,
   "metadata": {},
   "outputs": [
    {
     "data": {
      "text/plain": [
       "(array([ 1.,  3.,  6.,  7., 25., 13., 17., 17.,  3.]),\n",
       " array([-0.59705882, -0.45130719, -0.30555556, -0.15980392, -0.01405229,\n",
       "         0.13169935,  0.27745098,  0.42320261,  0.56895425,  0.71470588]),\n",
       " <BarContainer object of 9 artists>)"
      ]
     },
     "execution_count": 358,
     "metadata": {},
     "output_type": "execute_result"
    },
    {
     "data": {
      "image/png": "[encoded data removed]",
      "text/plain": [
       "<Figure size 640x480 with 1 Axes>"
      ]
     },
     "metadata": {},
     "output_type": "display_data"
    }
   ],
   "source": [
    "plt.hist(rank_correlations, bins='auto', alpha=0.7, color='blue') "
   ]
  },
  {
   "cell_type": "code",
   "execution_count": null,
   "metadata": {},
   "outputs": [],
   "source": []
  }
 ],
 "metadata": {
  "kernelspec": {
   "display_name": "Python 3",
   "language": "python",
   "name": "python3"
  },
  "language_info": {
   "codemirror_mode": {
    "name": "ipython",
    "version": 3
   },
   "file_extension": ".py",
   "mimetype": "text/x-python",
   "name": "python",
   "nbconvert_exporter": "python",
   "pygments_lexer": "ipython3",
   "version": "3.10.0"
  }
 },
 "nbformat": 4,
 "nbformat_minor": 2
}

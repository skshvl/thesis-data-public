{
 "cells": [
  {
   "cell_type": "code",
   "execution_count": 1,
   "id": "4c93798e-7703-45cf-a40c-7d4d1064b6e5",
   "metadata": {},
   "outputs": [
    {
     "data": {
      "text/plain": [
       "Index(['dataset', 'dataset_idx', 'image_file', 'linguistic_phenomena',\n",
       "       'caption', 'answer', 'classes', 'split', 'original_split',\n",
       "       'classes_foil', 'mturk', 'foil', 'challenge_set', 'foil_method',\n",
       "       'grammaticality_scores', 'nli_scores', 'key', 'declarative_statement',\n",
       "       'declarative_statement_foils', 'provenance_of_foils', 'foiling_method',\n",
       "       'orig_caption', 'only_caption', 'local_img_path'],\n",
       "      dtype='object')"
      ]
     },
     "execution_count": 1,
     "metadata": {},
     "output_type": "execute_result"
    }
   ],
   "source": [
    "import pandas as pd\n",
    "import os\n",
    "\n",
    "VALSE_PATH = \"VALSE_data\"\n",
    "\n",
    "valse_df = pd.read_csv(os.path.join(VALSE_PATH, \"valse_challenges_with_img_paths.csv\"))\n",
    "valse_df.columns"
   ]
  },
  {
   "cell_type": "code",
   "execution_count": 2,
   "id": "d533c2ba-41c5-440b-92db-67ca874fa626",
   "metadata": {},
   "outputs": [
    {
     "data": {
      "text/plain": [
       "{'actions',\n",
       " 'coreference',\n",
       " 'counting',\n",
       " 'existence',\n",
       " 'noun phrases',\n",
       " 'plurals',\n",
       " 'relations'}"
      ]
     },
     "execution_count": 2,
     "metadata": {},
     "output_type": "execute_result"
    }
   ],
   "source": [
    "ling_phenomena = set(valse_df.linguistic_phenomena)\n",
    "ling_phenomena"
   ]
  },
  {
   "cell_type": "markdown",
   "id": "b47fec1f-67cb-406b-a145-3954dff629fb",
   "metadata": {},
   "source": [
    "# Image viewer"
   ]
  },
  {
   "cell_type": "code",
   "execution_count": 5,
   "id": "836fa139-e29c-49fc-886a-30d7b23be624",
   "metadata": {},
   "outputs": [
    {
     "name": "stdout",
     "output_type": "stream",
     "text": [
      "['<font color=\"green\">There is a green buildings in the picture.</font>', '<font color=\"green\">A woman looks to her right while straddling a surfboard in the ocean.</font>', '<font color=\"green\">3 bottles have blue caps.</font>', '<font color=\"green\">at the picture is a scene of an airplane outside of a town.</font>', '<font color=\"green\">a surfer stands in knee high water in the ocean. is this a male? yes.</font>']\n"
     ]
    },
    {
     "name": "stdout",
     "output_type": "stream",
     "text": [
      "['<font color=\"green\">There are exactly 3 wall sconces visible in this picture.</font>', '<font color=\"green\">There are no people.</font>', '<font color=\"green\">a woman is working in a small kitchen. does she appear to be cooking? yes.</font>', '<font color=\"green\">an elephant standing on top of a dirt field. is this in daytime? yes.</font>', '<font color=\"green\">There are exactly 2 elephants in the picture.</font>']\n"
     ]
    },
    {
     "name": "stdout",
     "output_type": "stream",
     "text": [
      "['<font color=\"green\">There are exactly 3 people under the scissors.</font>', '<font color=\"green\">There are no people in the picture.</font>', '<font color=\"green\">A mother nuzzles her baby.</font>', '<font color=\"green\">There are exactly 5 tree trunks visbile.</font>', '<font color=\"green\">A giraffe is standing on a pile of logs in a grassy field next to a number of trees.</font>']\n"
     ]
    }
   ],
   "source": [
    "import pandas as pd\n",
    "import os\n",
    "import random\n",
    "from IPython.display import Image, display, HTML, clear_output\n",
    "import ipywidgets as widgets\n",
    "\n",
    "output = widgets.Output()\n",
    "\n",
    "# Create a dropdown widget with predetermined values\n",
    "ling_phenom_dropdown = widgets.Dropdown(\n",
    "    options=[\"Any\"] + list(ling_phenomena),  # Add your predetermined values here\n",
    "    description=\"Ling phenom:\",\n",
    ")\n",
    "\n",
    "n_imgs = 5\n",
    "\n",
    "# define function so we can refer to it\n",
    "def display_image(ling_phenom = None):\n",
    "    pass\n",
    "\n",
    "\n",
    "def display_random_image(click_event=None):\n",
    "    \"\"\"Picks random row to display\"\"\"\n",
    "    # with output:\n",
    "    display_image(ling_phenom = ling_phenom_dropdown.value)\n",
    "\n",
    "# Create \"Random image\" button\n",
    "random_button = widgets.Button(description=\"Random image\")\n",
    "random_button.on_click(display_random_image)\n",
    "\n",
    "\n",
    "# display an image with caption and foil\n",
    "def display_image(ling_phenom = \"Any\"):\n",
    "    if ling_phenom != \"Any\":\n",
    "        filter_df = valse_df[valse_df[\"linguistic_phenomena\"]==ling_phenom]\n",
    "    else:\n",
    "        filter_df = valse_df\n",
    "    selection = filter_df.sample(n_imgs)\n",
    "    img_paths = [os.path.join(VALSE_PATH, selection['local_img_path'].iloc[i]) for i in range(n_imgs)]\n",
    "    datasets = list(selection[\"dataset\"].iloc[0:n_imgs])\n",
    "    captions = [f'<font color=\"green\">{selection[\"caption\"].iloc[i]}</font>' for i in range(n_imgs)]\n",
    "    print(captions)\n",
    "    foils = [f'<font color=\"red\">{selection[\"foil\"].iloc[i]}</font>' for i in range(n_imgs)]\n",
    "    with output:\n",
    "        clear_output(wait=True)\n",
    "\n",
    "        #layout\n",
    "        display(ling_phenom_dropdown)\n",
    "        display(random_button)\n",
    "        for i in range(n_imgs):\n",
    "            display(datasets[i])\n",
    "            display(Image(filename=img_paths[i], width=200, ))\n",
    "            display(HTML(f'<p>{captions[i]}</p><p>{foils[i]}</p>\\n---------------------'))\n",
    "\n",
    "\n",
    "\n"
   ]
  },
  {
   "cell_type": "code",
   "execution_count": 6,
   "id": "6a131456-e680-4b56-adf7-fa0ac08203f1",
   "metadata": {},
   "outputs": [
    {
     "data": {
      "application/vnd.jupyter.widget-view+json": {
       "model_id": "711afac9ac1a475b876ee081bd78f66a",
       "version_major": 2,
       "version_minor": 0
      },
      "text/plain": [
       "Output()"
      ]
     },
     "metadata": {},
     "output_type": "display_data"
    }
   ],
   "source": [
    "\n",
    "# Display a random image initially\n",
    "with output:\n",
    "    display_random_image()\n",
    "display(output)"
   ]
  },
  {
   "cell_type": "code",
   "execution_count": null,
   "id": "06247d58-b0ab-4535-be5e-1628750fe86b",
   "metadata": {},
   "outputs": [],
   "source": []
  }
 ],
 "metadata": {
  "kernelspec": {
   "display_name": "Python 3 (ipykernel)",
   "language": "python",
   "name": "python3"
  },
  "language_info": {
   "codemirror_mode": {
    "name": "ipython",
    "version": 3
   },
   "file_extension": ".py",
   "mimetype": "text/x-python",
   "name": "python",
   "nbconvert_exporter": "python",
   "pygments_lexer": "ipython3",
   "version": "3.10.0"
  }
 },
 "nbformat": 4,
 "nbformat_minor": 5
}
